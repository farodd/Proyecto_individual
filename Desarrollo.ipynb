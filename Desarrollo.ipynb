{
 "cells": [
  {
   "cell_type": "markdown",
   "metadata": {},
   "source": [
    "# 1. Ingesta de datos"
   ]
  },
  {
   "cell_type": "code",
   "execution_count": 2,
   "metadata": {},
   "outputs": [],
   "source": [
    "#importamos librerías a usar\n",
    "import pandas as pd\n",
    "import numpy as np\n",
    "import ast #Módulo para manejar evaluación de expresiones literales de python\n",
    "import json\n",
    "import pyarrow as pa\n",
    "import pyarrow.parquet as pq\n",
    "from sklearn.feature_extraction.text import TfidfVectorizer\n",
    "from sklearn.metrics.pairwise import cosine_similarity\n",
    "import seaborn as sns\n",
    "\n"
   ]
  },
  {
   "cell_type": "code",
   "execution_count": 3,
   "metadata": {},
   "outputs": [],
   "source": [
    "#Leemos los datos\n",
    "\n",
    "ruta1 = 'ds_inicial\\credits.csv'\n",
    "ruta2 = 'ds_inicial\\movies_dataset.csv'\n"
   ]
  },
  {
   "cell_type": "markdown",
   "metadata": {},
   "source": [
    "## 1.1 Movies\n",
    "Se realiza lectura del data set Movies"
   ]
  },
  {
   "cell_type": "code",
   "execution_count": 4,
   "metadata": {},
   "outputs": [],
   "source": [
    "df_movies = pd.read_csv(ruta2, low_memory=False)"
   ]
  },
  {
   "cell_type": "code",
   "execution_count": 5,
   "metadata": {},
   "outputs": [
    {
     "data": {
      "text/html": [
       "<div>\n",
       "<style scoped>\n",
       "    .dataframe tbody tr th:only-of-type {\n",
       "        vertical-align: middle;\n",
       "    }\n",
       "\n",
       "    .dataframe tbody tr th {\n",
       "        vertical-align: top;\n",
       "    }\n",
       "\n",
       "    .dataframe thead th {\n",
       "        text-align: right;\n",
       "    }\n",
       "</style>\n",
       "<table border=\"1\" class=\"dataframe\">\n",
       "  <thead>\n",
       "    <tr style=\"text-align: right;\">\n",
       "      <th></th>\n",
       "      <th>adult</th>\n",
       "      <th>belongs_to_collection</th>\n",
       "      <th>budget</th>\n",
       "      <th>genres</th>\n",
       "      <th>homepage</th>\n",
       "      <th>id</th>\n",
       "      <th>imdb_id</th>\n",
       "      <th>original_language</th>\n",
       "      <th>original_title</th>\n",
       "      <th>overview</th>\n",
       "      <th>...</th>\n",
       "      <th>release_date</th>\n",
       "      <th>revenue</th>\n",
       "      <th>runtime</th>\n",
       "      <th>spoken_languages</th>\n",
       "      <th>status</th>\n",
       "      <th>tagline</th>\n",
       "      <th>title</th>\n",
       "      <th>video</th>\n",
       "      <th>vote_average</th>\n",
       "      <th>vote_count</th>\n",
       "    </tr>\n",
       "  </thead>\n",
       "  <tbody>\n",
       "    <tr>\n",
       "      <th>0</th>\n",
       "      <td>False</td>\n",
       "      <td>{'id': 10194, 'name': 'Toy Story Collection', ...</td>\n",
       "      <td>30000000</td>\n",
       "      <td>[{'id': 16, 'name': 'Animation'}, {'id': 35, '...</td>\n",
       "      <td>http://toystory.disney.com/toy-story</td>\n",
       "      <td>862</td>\n",
       "      <td>tt0114709</td>\n",
       "      <td>en</td>\n",
       "      <td>Toy Story</td>\n",
       "      <td>Led by Woody, Andy's toys live happily in his ...</td>\n",
       "      <td>...</td>\n",
       "      <td>1995-10-30</td>\n",
       "      <td>373554033.0</td>\n",
       "      <td>81.0</td>\n",
       "      <td>[{'iso_639_1': 'en', 'name': 'English'}]</td>\n",
       "      <td>Released</td>\n",
       "      <td>NaN</td>\n",
       "      <td>Toy Story</td>\n",
       "      <td>False</td>\n",
       "      <td>7.7</td>\n",
       "      <td>5415.0</td>\n",
       "    </tr>\n",
       "    <tr>\n",
       "      <th>1</th>\n",
       "      <td>False</td>\n",
       "      <td>NaN</td>\n",
       "      <td>65000000</td>\n",
       "      <td>[{'id': 12, 'name': 'Adventure'}, {'id': 14, '...</td>\n",
       "      <td>NaN</td>\n",
       "      <td>8844</td>\n",
       "      <td>tt0113497</td>\n",
       "      <td>en</td>\n",
       "      <td>Jumanji</td>\n",
       "      <td>When siblings Judy and Peter discover an encha...</td>\n",
       "      <td>...</td>\n",
       "      <td>1995-12-15</td>\n",
       "      <td>262797249.0</td>\n",
       "      <td>104.0</td>\n",
       "      <td>[{'iso_639_1': 'en', 'name': 'English'}, {'iso...</td>\n",
       "      <td>Released</td>\n",
       "      <td>Roll the dice and unleash the excitement!</td>\n",
       "      <td>Jumanji</td>\n",
       "      <td>False</td>\n",
       "      <td>6.9</td>\n",
       "      <td>2413.0</td>\n",
       "    </tr>\n",
       "    <tr>\n",
       "      <th>2</th>\n",
       "      <td>False</td>\n",
       "      <td>{'id': 119050, 'name': 'Grumpy Old Men Collect...</td>\n",
       "      <td>0</td>\n",
       "      <td>[{'id': 10749, 'name': 'Romance'}, {'id': 35, ...</td>\n",
       "      <td>NaN</td>\n",
       "      <td>15602</td>\n",
       "      <td>tt0113228</td>\n",
       "      <td>en</td>\n",
       "      <td>Grumpier Old Men</td>\n",
       "      <td>A family wedding reignites the ancient feud be...</td>\n",
       "      <td>...</td>\n",
       "      <td>1995-12-22</td>\n",
       "      <td>0.0</td>\n",
       "      <td>101.0</td>\n",
       "      <td>[{'iso_639_1': 'en', 'name': 'English'}]</td>\n",
       "      <td>Released</td>\n",
       "      <td>Still Yelling. Still Fighting. Still Ready for...</td>\n",
       "      <td>Grumpier Old Men</td>\n",
       "      <td>False</td>\n",
       "      <td>6.5</td>\n",
       "      <td>92.0</td>\n",
       "    </tr>\n",
       "  </tbody>\n",
       "</table>\n",
       "<p>3 rows × 24 columns</p>\n",
       "</div>"
      ],
      "text/plain": [
       "   adult                              belongs_to_collection    budget  \\\n",
       "0  False  {'id': 10194, 'name': 'Toy Story Collection', ...  30000000   \n",
       "1  False                                                NaN  65000000   \n",
       "2  False  {'id': 119050, 'name': 'Grumpy Old Men Collect...         0   \n",
       "\n",
       "                                              genres  \\\n",
       "0  [{'id': 16, 'name': 'Animation'}, {'id': 35, '...   \n",
       "1  [{'id': 12, 'name': 'Adventure'}, {'id': 14, '...   \n",
       "2  [{'id': 10749, 'name': 'Romance'}, {'id': 35, ...   \n",
       "\n",
       "                               homepage     id    imdb_id original_language  \\\n",
       "0  http://toystory.disney.com/toy-story    862  tt0114709                en   \n",
       "1                                   NaN   8844  tt0113497                en   \n",
       "2                                   NaN  15602  tt0113228                en   \n",
       "\n",
       "     original_title                                           overview  ...  \\\n",
       "0         Toy Story  Led by Woody, Andy's toys live happily in his ...  ...   \n",
       "1           Jumanji  When siblings Judy and Peter discover an encha...  ...   \n",
       "2  Grumpier Old Men  A family wedding reignites the ancient feud be...  ...   \n",
       "\n",
       "  release_date      revenue runtime  \\\n",
       "0   1995-10-30  373554033.0    81.0   \n",
       "1   1995-12-15  262797249.0   104.0   \n",
       "2   1995-12-22          0.0   101.0   \n",
       "\n",
       "                                    spoken_languages    status  \\\n",
       "0           [{'iso_639_1': 'en', 'name': 'English'}]  Released   \n",
       "1  [{'iso_639_1': 'en', 'name': 'English'}, {'iso...  Released   \n",
       "2           [{'iso_639_1': 'en', 'name': 'English'}]  Released   \n",
       "\n",
       "                                             tagline             title  video  \\\n",
       "0                                                NaN         Toy Story  False   \n",
       "1          Roll the dice and unleash the excitement!           Jumanji  False   \n",
       "2  Still Yelling. Still Fighting. Still Ready for...  Grumpier Old Men  False   \n",
       "\n",
       "  vote_average vote_count  \n",
       "0          7.7     5415.0  \n",
       "1          6.9     2413.0  \n",
       "2          6.5       92.0  \n",
       "\n",
       "[3 rows x 24 columns]"
      ]
     },
     "execution_count": 5,
     "metadata": {},
     "output_type": "execute_result"
    }
   ],
   "source": [
    "df_movies.head(3)"
   ]
  },
  {
   "cell_type": "code",
   "execution_count": 5,
   "metadata": {},
   "outputs": [
    {
     "name": "stdout",
     "output_type": "stream",
     "text": [
      "<class 'pandas.core.series.Series'>\n",
      "RangeIndex: 45466 entries, 0 to 45465\n",
      "Series name: id\n",
      "Non-Null Count  Dtype \n",
      "--------------  ----- \n",
      "45466 non-null  object\n",
      "dtypes: object(1)\n",
      "memory usage: 355.3+ KB\n"
     ]
    }
   ],
   "source": [
    "df_movies['id'].info()"
   ]
  },
  {
   "cell_type": "markdown",
   "metadata": {},
   "source": [
    "## 1.2 Credits\n",
    "Se realiza lectura del dataset Credits"
   ]
  },
  {
   "cell_type": "code",
   "execution_count": 7,
   "metadata": {},
   "outputs": [],
   "source": [
    "df_credits = pd.read_csv(ruta1)"
   ]
  },
  {
   "cell_type": "code",
   "execution_count": 8,
   "metadata": {},
   "outputs": [
    {
     "data": {
      "text/html": [
       "<div>\n",
       "<style scoped>\n",
       "    .dataframe tbody tr th:only-of-type {\n",
       "        vertical-align: middle;\n",
       "    }\n",
       "\n",
       "    .dataframe tbody tr th {\n",
       "        vertical-align: top;\n",
       "    }\n",
       "\n",
       "    .dataframe thead th {\n",
       "        text-align: right;\n",
       "    }\n",
       "</style>\n",
       "<table border=\"1\" class=\"dataframe\">\n",
       "  <thead>\n",
       "    <tr style=\"text-align: right;\">\n",
       "      <th></th>\n",
       "      <th>cast</th>\n",
       "      <th>crew</th>\n",
       "      <th>id</th>\n",
       "    </tr>\n",
       "  </thead>\n",
       "  <tbody>\n",
       "    <tr>\n",
       "      <th>0</th>\n",
       "      <td>[{'cast_id': 14, 'character': 'Woody (voice)',...</td>\n",
       "      <td>[{'credit_id': '52fe4284c3a36847f8024f49', 'de...</td>\n",
       "      <td>862</td>\n",
       "    </tr>\n",
       "    <tr>\n",
       "      <th>1</th>\n",
       "      <td>[{'cast_id': 1, 'character': 'Alan Parrish', '...</td>\n",
       "      <td>[{'credit_id': '52fe44bfc3a36847f80a7cd1', 'de...</td>\n",
       "      <td>8844</td>\n",
       "    </tr>\n",
       "    <tr>\n",
       "      <th>2</th>\n",
       "      <td>[{'cast_id': 2, 'character': 'Max Goldman', 'c...</td>\n",
       "      <td>[{'credit_id': '52fe466a9251416c75077a89', 'de...</td>\n",
       "      <td>15602</td>\n",
       "    </tr>\n",
       "  </tbody>\n",
       "</table>\n",
       "</div>"
      ],
      "text/plain": [
       "                                                cast  \\\n",
       "0  [{'cast_id': 14, 'character': 'Woody (voice)',...   \n",
       "1  [{'cast_id': 1, 'character': 'Alan Parrish', '...   \n",
       "2  [{'cast_id': 2, 'character': 'Max Goldman', 'c...   \n",
       "\n",
       "                                                crew     id  \n",
       "0  [{'credit_id': '52fe4284c3a36847f8024f49', 'de...    862  \n",
       "1  [{'credit_id': '52fe44bfc3a36847f80a7cd1', 'de...   8844  \n",
       "2  [{'credit_id': '52fe466a9251416c75077a89', 'de...  15602  "
      ]
     },
     "execution_count": 8,
     "metadata": {},
     "output_type": "execute_result"
    }
   ],
   "source": [
    "df_credits.head(3)"
   ]
  },
  {
   "cell_type": "code",
   "execution_count": 9,
   "metadata": {},
   "outputs": [
    {
     "name": "stdout",
     "output_type": "stream",
     "text": [
      "<class 'pandas.core.frame.DataFrame'>\n",
      "RangeIndex: 45476 entries, 0 to 45475\n",
      "Data columns (total 3 columns):\n",
      " #   Column  Non-Null Count  Dtype \n",
      "---  ------  --------------  ----- \n",
      " 0   cast    45476 non-null  object\n",
      " 1   crew    45476 non-null  object\n",
      " 2   id      45476 non-null  int64 \n",
      "dtypes: int64(1), object(2)\n",
      "memory usage: 1.0+ MB\n"
     ]
    }
   ],
   "source": [
    "df_credits.info()"
   ]
  },
  {
   "cell_type": "markdown",
   "metadata": {},
   "source": [
    "# 2. Tratamiento de datos (ETL)"
   ]
  },
  {
   "cell_type": "markdown",
   "metadata": {},
   "source": [
    "## 2.1 Desanidado de columnas\n",
    "\n",
    "##### Luego de la ingesta de datos, se aprecia que los dos dataframes presenta columnas con datos anidados. por lo que se utilizará la función .explode, con el fin de desanidar la información y convertir cada clave a columna.\n",
    "\n",
    "##### luego de desanidar, se concatenan las columnas deldata frame df_explode con las columnas desanidadas"
   ]
  },
  {
   "cell_type": "markdown",
   "metadata": {},
   "source": [
    "### 2.1.1 df_movies"
   ]
  },
  {
   "cell_type": "code",
   "execution_count": 9,
   "metadata": {},
   "outputs": [],
   "source": [
    "# se borra columna que no se utilizará de movies\n",
    "df_movies = df_movies.rename(columns={'id': 'id_movie'})\n",
    "\n",
    "def safe_literal_eval(x):\n",
    "    try: \n",
    "        return ast.literal_eval(x) \n",
    "    except (ValueError, SyntaxError):\n",
    "        return []\n",
    "cols_a_literal = ['belongs_to_collection','genres','production_companies', 'production_countries', 'spoken_languages']\n",
    "\n",
    "# Aplicar safe_literal_eval a cada columna si es necesario para poder llevarlo a explotar\n",
    "for col in cols_a_literal:\n",
    "    if col in df_movies.columns:\n",
    "        df_movies[col] = df_movies[col].apply(lambda x: safe_literal_eval(x) if pd.notna(x) else pd.NA) \n",
    "\n",
    "cols_a_explotar = ['genres','production_companies', 'production_countries', 'spoken_languages']\n",
    "#Ciclo for para poder explotar las columnas en lista\n",
    "for i in cols_a_explotar:\n",
    "    df_movies = df_movies.explode(i)\n"
   ]
  },
  {
   "cell_type": "code",
   "execution_count": 10,
   "metadata": {},
   "outputs": [
    {
     "data": {
      "text/plain": [
       "(419779, 24)"
      ]
     },
     "execution_count": 10,
     "metadata": {},
     "output_type": "execute_result"
    }
   ],
   "source": [
    "df_explode = df_movies.copy()\n",
    "df_explode.shape"
   ]
  },
  {
   "cell_type": "code",
   "execution_count": 11,
   "metadata": {},
   "outputs": [
    {
     "data": {
      "text/html": [
       "<div>\n",
       "<style scoped>\n",
       "    .dataframe tbody tr th:only-of-type {\n",
       "        vertical-align: middle;\n",
       "    }\n",
       "\n",
       "    .dataframe tbody tr th {\n",
       "        vertical-align: top;\n",
       "    }\n",
       "\n",
       "    .dataframe thead th {\n",
       "        text-align: right;\n",
       "    }\n",
       "</style>\n",
       "<table border=\"1\" class=\"dataframe\">\n",
       "  <thead>\n",
       "    <tr style=\"text-align: right;\">\n",
       "      <th></th>\n",
       "      <th>adult</th>\n",
       "      <th>belongs_to_collection</th>\n",
       "      <th>budget</th>\n",
       "      <th>genres</th>\n",
       "      <th>homepage</th>\n",
       "      <th>id_movie</th>\n",
       "      <th>imdb_id</th>\n",
       "      <th>original_language</th>\n",
       "      <th>original_title</th>\n",
       "      <th>overview</th>\n",
       "      <th>...</th>\n",
       "      <th>release_date</th>\n",
       "      <th>revenue</th>\n",
       "      <th>runtime</th>\n",
       "      <th>spoken_languages</th>\n",
       "      <th>status</th>\n",
       "      <th>tagline</th>\n",
       "      <th>title</th>\n",
       "      <th>video</th>\n",
       "      <th>vote_average</th>\n",
       "      <th>vote_count</th>\n",
       "    </tr>\n",
       "  </thead>\n",
       "  <tbody>\n",
       "    <tr>\n",
       "      <th>0</th>\n",
       "      <td>False</td>\n",
       "      <td>{'id': 10194, 'name': 'Toy Story Collection', ...</td>\n",
       "      <td>30000000</td>\n",
       "      <td>{'id': 16, 'name': 'Animation'}</td>\n",
       "      <td>http://toystory.disney.com/toy-story</td>\n",
       "      <td>862</td>\n",
       "      <td>tt0114709</td>\n",
       "      <td>en</td>\n",
       "      <td>Toy Story</td>\n",
       "      <td>Led by Woody, Andy's toys live happily in his ...</td>\n",
       "      <td>...</td>\n",
       "      <td>1995-10-30</td>\n",
       "      <td>373554033.0</td>\n",
       "      <td>81.0</td>\n",
       "      <td>{'iso_639_1': 'en', 'name': 'English'}</td>\n",
       "      <td>Released</td>\n",
       "      <td>NaN</td>\n",
       "      <td>Toy Story</td>\n",
       "      <td>False</td>\n",
       "      <td>7.7</td>\n",
       "      <td>5415.0</td>\n",
       "    </tr>\n",
       "    <tr>\n",
       "      <th>0</th>\n",
       "      <td>False</td>\n",
       "      <td>{'id': 10194, 'name': 'Toy Story Collection', ...</td>\n",
       "      <td>30000000</td>\n",
       "      <td>{'id': 35, 'name': 'Comedy'}</td>\n",
       "      <td>http://toystory.disney.com/toy-story</td>\n",
       "      <td>862</td>\n",
       "      <td>tt0114709</td>\n",
       "      <td>en</td>\n",
       "      <td>Toy Story</td>\n",
       "      <td>Led by Woody, Andy's toys live happily in his ...</td>\n",
       "      <td>...</td>\n",
       "      <td>1995-10-30</td>\n",
       "      <td>373554033.0</td>\n",
       "      <td>81.0</td>\n",
       "      <td>{'iso_639_1': 'en', 'name': 'English'}</td>\n",
       "      <td>Released</td>\n",
       "      <td>NaN</td>\n",
       "      <td>Toy Story</td>\n",
       "      <td>False</td>\n",
       "      <td>7.7</td>\n",
       "      <td>5415.0</td>\n",
       "    </tr>\n",
       "    <tr>\n",
       "      <th>0</th>\n",
       "      <td>False</td>\n",
       "      <td>{'id': 10194, 'name': 'Toy Story Collection', ...</td>\n",
       "      <td>30000000</td>\n",
       "      <td>{'id': 10751, 'name': 'Family'}</td>\n",
       "      <td>http://toystory.disney.com/toy-story</td>\n",
       "      <td>862</td>\n",
       "      <td>tt0114709</td>\n",
       "      <td>en</td>\n",
       "      <td>Toy Story</td>\n",
       "      <td>Led by Woody, Andy's toys live happily in his ...</td>\n",
       "      <td>...</td>\n",
       "      <td>1995-10-30</td>\n",
       "      <td>373554033.0</td>\n",
       "      <td>81.0</td>\n",
       "      <td>{'iso_639_1': 'en', 'name': 'English'}</td>\n",
       "      <td>Released</td>\n",
       "      <td>NaN</td>\n",
       "      <td>Toy Story</td>\n",
       "      <td>False</td>\n",
       "      <td>7.7</td>\n",
       "      <td>5415.0</td>\n",
       "    </tr>\n",
       "  </tbody>\n",
       "</table>\n",
       "<p>3 rows × 24 columns</p>\n",
       "</div>"
      ],
      "text/plain": [
       "   adult                              belongs_to_collection    budget  \\\n",
       "0  False  {'id': 10194, 'name': 'Toy Story Collection', ...  30000000   \n",
       "0  False  {'id': 10194, 'name': 'Toy Story Collection', ...  30000000   \n",
       "0  False  {'id': 10194, 'name': 'Toy Story Collection', ...  30000000   \n",
       "\n",
       "                            genres                              homepage  \\\n",
       "0  {'id': 16, 'name': 'Animation'}  http://toystory.disney.com/toy-story   \n",
       "0     {'id': 35, 'name': 'Comedy'}  http://toystory.disney.com/toy-story   \n",
       "0  {'id': 10751, 'name': 'Family'}  http://toystory.disney.com/toy-story   \n",
       "\n",
       "  id_movie    imdb_id original_language original_title  \\\n",
       "0      862  tt0114709                en      Toy Story   \n",
       "0      862  tt0114709                en      Toy Story   \n",
       "0      862  tt0114709                en      Toy Story   \n",
       "\n",
       "                                            overview  ... release_date  \\\n",
       "0  Led by Woody, Andy's toys live happily in his ...  ...   1995-10-30   \n",
       "0  Led by Woody, Andy's toys live happily in his ...  ...   1995-10-30   \n",
       "0  Led by Woody, Andy's toys live happily in his ...  ...   1995-10-30   \n",
       "\n",
       "       revenue runtime                        spoken_languages    status  \\\n",
       "0  373554033.0    81.0  {'iso_639_1': 'en', 'name': 'English'}  Released   \n",
       "0  373554033.0    81.0  {'iso_639_1': 'en', 'name': 'English'}  Released   \n",
       "0  373554033.0    81.0  {'iso_639_1': 'en', 'name': 'English'}  Released   \n",
       "\n",
       "   tagline      title  video vote_average vote_count  \n",
       "0      NaN  Toy Story  False          7.7     5415.0  \n",
       "0      NaN  Toy Story  False          7.7     5415.0  \n",
       "0      NaN  Toy Story  False          7.7     5415.0  \n",
       "\n",
       "[3 rows x 24 columns]"
      ]
     },
     "execution_count": 11,
     "metadata": {},
     "output_type": "execute_result"
    }
   ],
   "source": [
    "df_explode.head(3)"
   ]
  },
  {
   "cell_type": "markdown",
   "metadata": {},
   "source": []
  },
  {
   "cell_type": "code",
   "execution_count": 12,
   "metadata": {},
   "outputs": [
    {
     "data": {
      "text/plain": [
       "(419779, 31)"
      ]
     },
     "execution_count": 12,
     "metadata": {},
     "output_type": "execute_result"
    }
   ],
   "source": [
    "# #eliminamos datos nulos y reseteamos el indice\n",
    "df_explode.dropna(how='all', inplace =True)\n",
    "df_explode.reset_index(inplace=True, drop=True)\n",
    "\n",
    "#normalizamos información semiestructurada de tipo json a una tabla plana y quitamos valores nulos\n",
    "belongs_to_collection = pd.json_normalize(df_movies['belongs_to_collection'].dropna(how = 'all'))\n",
    "genres = pd.json_normalize(df_explode['genres'].dropna(how = 'all'))\n",
    "production_companies = pd.json_normalize(df_explode['production_companies'].dropna(how = 'all'))\n",
    "production_countries = pd.json_normalize(df_explode['production_countries'].dropna(how = 'all'))\n",
    "spoken_languages = pd.json_normalize(df_explode['spoken_languages'].dropna(how = 'all'))\n",
    "\n",
    "#Reseteamos indices\n",
    "belongs_to_collection.reset_index(inplace=True, drop=True)\n",
    "genres.reset_index(inplace=True, drop=True)\n",
    "production_companies.reset_index(inplace=True, drop=True)\n",
    "production_countries.reset_index(inplace=True, drop=True)\n",
    "spoken_languages.reset_index(inplace=True, drop=True)\n",
    "\n",
    "#se cambian nombres a columnas de 'id'\n",
    "belongs_to_collection = belongs_to_collection.rename(columns ={'id' : 'id_franchise', 'name': 'collection_name'})\n",
    "genres = genres.rename(columns={'id': 'id_genres', 'name': 'genres'})\n",
    "production_companies = production_companies.rename(columns={'id': 'id_company', 'name':'production_companies'})\n",
    "production_countries = production_countries.rename(columns={'iso_3166_1': 'country_code', 'name':'production_countries'})\n",
    "spoken_languages = spoken_languages.rename(columns={'iso_639_1': 'language_code', 'name':'language'})\n",
    "#concatenamos los dataframes\n",
    "df_movies_full = (pd.concat([df_explode.drop(columns=['belongs_to_collection', 'genres', 'production_companies','production_countries', 'spoken_languages']), belongs_to_collection, genres, production_companies, production_countries, spoken_languages], axis=1)).dropna(how='all')\n",
    "df_movies_full.shape"
   ]
  },
  {
   "cell_type": "markdown",
   "metadata": {},
   "source": [
    "## 2.1.2 df_credits\n",
    "\n",
    "##### Desanidamos la información que se encuentra en credits, columnas crew y cast"
   ]
  },
  {
   "cell_type": "code",
   "execution_count": 13,
   "metadata": {},
   "outputs": [],
   "source": [
    "#Cambiamos nombre de columna id\n",
    "df_credits = df_credits.rename(columns={'id': 'id_movie'})\n",
    "\n",
    "#función para aplicar ast.litera_eval\n",
    "def safe_literal_eval(x):\n",
    "    try: \n",
    "        return ast.literal_eval(x) \n",
    "    except (ValueError, SyntaxError):\n",
    "        return []\n",
    "cols_a_literal = ['crew', 'cast']\n",
    "\n",
    "# Aplicar safe_literal_eval a cada columna si es necesario para poder llevarlo a explotar\n",
    "for col in cols_a_literal:\n",
    "    if col in df_credits.columns:\n",
    "        df_credits[col] = df_credits[col].apply(lambda x: safe_literal_eval(x) if pd.notna(x) else pd.NA) \n",
    "\n",
    "cols_a_explotar = ['crew', 'cast']\n",
    "#Ciclo for para poder explotar las columnas en lista\n",
    "for i in cols_a_explotar:\n",
    "    df_credits = df_credits.explode(i)"
   ]
  },
  {
   "cell_type": "code",
   "execution_count": 14,
   "metadata": {},
   "outputs": [
    {
     "data": {
      "text/plain": [
       "(9484668, 3)"
      ]
     },
     "execution_count": 14,
     "metadata": {},
     "output_type": "execute_result"
    }
   ],
   "source": [
    "df_explodec = df_credits.copy()\n",
    "df_explodec.shape"
   ]
  },
  {
   "cell_type": "code",
   "execution_count": 15,
   "metadata": {},
   "outputs": [],
   "source": [
    "# #eliminamos datos nulos y reseteamos el indice\n",
    "df_explodec.dropna(how='all', inplace =True)\n",
    "df_explodec.reset_index(inplace=True, drop=True)\n",
    "\n",
    "#normalizamos información semiestructurada de tipo json a una tabla plana y quitamos valores nulos\n",
    "cast = pd.json_normalize(df_explodec['cast'].dropna(how = 'all'))\n",
    "crew = pd.json_normalize(df_explodec['crew'].dropna(how = 'all'))\n",
    "\n",
    "#Reseteamos indices\n",
    "cast.reset_index(inplace=True, drop=True)\n",
    "crew.reset_index(inplace=True, drop=True)\n",
    "\n",
    "#Cambio de nombre de columnas 'id'\n",
    "cast = cast.rename(columns={'id': 'id_actor', 'name': 'actor_name', 'profile_path': 'actor_profile_path', 'credit_id': 'cast_creditid'})\n",
    "crew = crew.rename(columns={'id': 'id_member', 'name': 'member_name', 'profile_path': 'member_profile_path', 'credit_id': 'crew_creditid'})\n",
    "#concatenamos los dataframes\n",
    "df_credits_full = (pd.concat([df_explodec.drop(columns=['crew', 'cast']),crew, cast ], axis=1)).dropna(how='all')\n"
   ]
  },
  {
   "cell_type": "code",
   "execution_count": 16,
   "metadata": {},
   "outputs": [
    {
     "data": {
      "text/plain": [
       "(9484668, 16)"
      ]
     },
     "execution_count": 16,
     "metadata": {},
     "output_type": "execute_result"
    }
   ],
   "source": [
    "df_credits_full.shape"
   ]
  },
  {
   "cell_type": "markdown",
   "metadata": {},
   "source": [
    "## 2.2 Dupllicados, valores nulos e inconsistencias"
   ]
  },
  {
   "cell_type": "markdown",
   "metadata": {},
   "source": [
    "### 2.2.1 df_movies_full"
   ]
  },
  {
   "cell_type": "code",
   "execution_count": 18,
   "metadata": {},
   "outputs": [
    {
     "name": "stdout",
     "output_type": "stream",
     "text": [
      "<class 'pandas.core.frame.DataFrame'>\n",
      "RangeIndex: 419779 entries, 0 to 419778\n",
      "Data columns (total 31 columns):\n",
      " #   Column                Non-Null Count   Dtype         \n",
      "---  ------                --------------   -----         \n",
      " 0   adult                 419779 non-null  object        \n",
      " 1   budget                419779 non-null  object        \n",
      " 2   homepage              128605 non-null  object        \n",
      " 3   id_movie              419779 non-null  object        \n",
      " 4   imdb_id               419714 non-null  object        \n",
      " 5   original_language     419683 non-null  object        \n",
      " 6   original_title        419779 non-null  object        \n",
      " 7   overview              417270 non-null  object        \n",
      " 8   popularity            419762 non-null  object        \n",
      " 9   poster_path           419199 non-null  object        \n",
      " 10  release_date          419588 non-null  datetime64[ns]\n",
      " 11  revenue               419758 non-null  float64       \n",
      " 12  runtime               419202 non-null  float64       \n",
      " 13  status                419614 non-null  object        \n",
      " 14  tagline               227466 non-null  object        \n",
      " 15  title                 419758 non-null  object        \n",
      " 16  video                 419758 non-null  object        \n",
      " 17  vote_average          419758 non-null  float64       \n",
      " 18  vote_count            419758 non-null  float64       \n",
      " 19  id_franchise          54369 non-null   float64       \n",
      " 20  collection_name       54369 non-null   object        \n",
      " 21  poster_path           50177 non-null   object        \n",
      " 22  backdrop_path         44764 non-null   object        \n",
      " 23  id_genres             416578 non-null  float64       \n",
      " 24  genres                416578 non-null  object        \n",
      " 25  production_companies  392681 non-null  object        \n",
      " 26  id_company            392681 non-null  float64       \n",
      " 27  country_code          408375 non-null  object        \n",
      " 28  production_countries  408375 non-null  object        \n",
      " 29  language_code         413097 non-null  object        \n",
      " 30  language              413097 non-null  object        \n",
      "dtypes: datetime64[ns](1), float64(7), object(23)\n",
      "memory usage: 99.3+ MB\n"
     ]
    }
   ],
   "source": [
    "df_movies_full.info()"
   ]
  },
  {
   "cell_type": "code",
   "execution_count": 19,
   "metadata": {},
   "outputs": [
    {
     "data": {
      "text/plain": [
       "(419779, 31)"
      ]
     },
     "execution_count": 19,
     "metadata": {},
     "output_type": "execute_result"
    }
   ],
   "source": [
    "#rellenado de valores nulos en campos revenue y budget con 0.\n",
    "df_movies_full['revenue'] = df_movies_full['revenue'].fillna(0)\n",
    "df_movies_full['budget'] = df_movies_full['budget'].fillna(0)\n",
    "df_movies_full.shape"
   ]
  },
  {
   "cell_type": "code",
   "execution_count": 20,
   "metadata": {},
   "outputs": [
    {
     "data": {
      "text/plain": [
       "(419588, 31)"
      ]
     },
     "execution_count": 20,
     "metadata": {},
     "output_type": "execute_result"
    }
   ],
   "source": [
    "#eliminalos los nulos de release_date\n",
    "df_movies_full.dropna(subset=['release_date'], inplace=True)\n",
    "df_movies_full.shape"
   ]
  },
  {
   "cell_type": "code",
   "execution_count": 21,
   "metadata": {},
   "outputs": [],
   "source": [
    "# Convertimos la columna a date_time y si encuentra algun error, lo clasifica como NaT ((N)ot-(A)-(T)ime, equivalente del tiempo para NaN.)\n",
    "df_movies_full['release_date'] = pd.to_datetime(df_movies_full['release_date'], errors='coerce')\n",
    "#creamos columna 'release_year' extrayendo el año de release_date\n",
    "\n",
    "df_movies_full['release_year'] = pd.to_datetime(df_movies_full['release_date'], errors='coerce').dt.year"
   ]
  },
  {
   "cell_type": "code",
   "execution_count": 22,
   "metadata": {},
   "outputs": [
    {
     "data": {
      "text/html": [
       "<div>\n",
       "<style scoped>\n",
       "    .dataframe tbody tr th:only-of-type {\n",
       "        vertical-align: middle;\n",
       "    }\n",
       "\n",
       "    .dataframe tbody tr th {\n",
       "        vertical-align: top;\n",
       "    }\n",
       "\n",
       "    .dataframe thead th {\n",
       "        text-align: right;\n",
       "    }\n",
       "</style>\n",
       "<table border=\"1\" class=\"dataframe\">\n",
       "  <thead>\n",
       "    <tr style=\"text-align: right;\">\n",
       "      <th></th>\n",
       "      <th>release_date</th>\n",
       "      <th>release_year</th>\n",
       "    </tr>\n",
       "  </thead>\n",
       "  <tbody>\n",
       "    <tr>\n",
       "      <th>0</th>\n",
       "      <td>1995-10-30</td>\n",
       "      <td>1995</td>\n",
       "    </tr>\n",
       "    <tr>\n",
       "      <th>1</th>\n",
       "      <td>1995-10-30</td>\n",
       "      <td>1995</td>\n",
       "    </tr>\n",
       "    <tr>\n",
       "      <th>2</th>\n",
       "      <td>1995-10-30</td>\n",
       "      <td>1995</td>\n",
       "    </tr>\n",
       "  </tbody>\n",
       "</table>\n",
       "</div>"
      ],
      "text/plain": [
       "  release_date  release_year\n",
       "0   1995-10-30          1995\n",
       "1   1995-10-30          1995\n",
       "2   1995-10-30          1995"
      ]
     },
     "execution_count": 22,
     "metadata": {},
     "output_type": "execute_result"
    }
   ],
   "source": [
    "df_movies_full[['release_date', 'release_year']].head(3)"
   ]
  },
  {
   "cell_type": "code",
   "execution_count": 23,
   "metadata": {},
   "outputs": [],
   "source": [
    "#verificados que los valores de las columnas revenue y budget sean numéricos\n",
    "df_movies_full['revenue'] = pd.to_numeric(df_movies_full['revenue'], errors='coerce')\n",
    "df_movies_full['budget'] = pd.to_numeric(df_movies_full['budget'], errors='coerce')\n",
    "\n",
    "#Calculamos columna return como revenue/budget\n",
    "df_movies_full['return'] = np.where(df_movies_full['budget'] != 0,\n",
    "                                   df_movies_full['revenue'] / df_movies_full['budget'],\n",
    "                                   np.nan)\n",
    "df_movies_full['return'] = df_movies_full['return'].replace([np.inf, -np.inf], np.nan)\n",
    "df_movies_full['return'] = df_movies_full['return'].fillna(0)"
   ]
  },
  {
   "cell_type": "code",
   "execution_count": 24,
   "metadata": {},
   "outputs": [],
   "source": [
    "#Eliminamos columnas que no se utilizarán\n",
    "# Asegúrar de que los nombres de las columnas coincidan exactamente\n",
    "df_movies_full = df_movies_full.drop(columns=['video', 'imdb_id', 'adult', 'original_title', 'poster_path', 'homepage'], errors='ignore')\n"
   ]
  },
  {
   "cell_type": "markdown",
   "metadata": {},
   "source": [
    "##### Además, observamos si existen duplicados en base a id_movie y si existen, se eliminan."
   ]
  },
  {
   "cell_type": "code",
   "execution_count": 25,
   "metadata": {},
   "outputs": [
    {
     "name": "stdout",
     "output_type": "stream",
     "text": [
      "(419588, 26)\n"
     ]
    },
    {
     "data": {
      "text/plain": [
       "86505"
      ]
     },
     "execution_count": 25,
     "metadata": {},
     "output_type": "execute_result"
    }
   ],
   "source": [
    "print(df_movies_full.shape)\n",
    "df_movies_full.duplicated(keep='first').sum()\n"
   ]
  },
  {
   "cell_type": "code",
   "execution_count": 26,
   "metadata": {},
   "outputs": [],
   "source": [
    "df_movies_full.drop_duplicates(subset='id_movie', inplace=True)"
   ]
  },
  {
   "cell_type": "code",
   "execution_count": 27,
   "metadata": {},
   "outputs": [
    {
     "data": {
      "text/plain": [
       "(45346, 26)"
      ]
     },
     "execution_count": 27,
     "metadata": {},
     "output_type": "execute_result"
    }
   ],
   "source": [
    "df_movies_full.shape"
   ]
  },
  {
   "cell_type": "code",
   "execution_count": 28,
   "metadata": {},
   "outputs": [
    {
     "data": {
      "text/html": [
       "<div>\n",
       "<style scoped>\n",
       "    .dataframe tbody tr th:only-of-type {\n",
       "        vertical-align: middle;\n",
       "    }\n",
       "\n",
       "    .dataframe tbody tr th {\n",
       "        vertical-align: top;\n",
       "    }\n",
       "\n",
       "    .dataframe thead th {\n",
       "        text-align: right;\n",
       "    }\n",
       "</style>\n",
       "<table border=\"1\" class=\"dataframe\">\n",
       "  <thead>\n",
       "    <tr style=\"text-align: right;\">\n",
       "      <th></th>\n",
       "      <th>revenue</th>\n",
       "      <th>budget</th>\n",
       "    </tr>\n",
       "  </thead>\n",
       "  <tbody>\n",
       "    <tr>\n",
       "      <th>0</th>\n",
       "      <td>373554033.0</td>\n",
       "      <td>30000000</td>\n",
       "    </tr>\n",
       "    <tr>\n",
       "      <th>3</th>\n",
       "      <td>262797249.0</td>\n",
       "      <td>65000000</td>\n",
       "    </tr>\n",
       "    <tr>\n",
       "      <th>21</th>\n",
       "      <td>0.0</td>\n",
       "      <td>0</td>\n",
       "    </tr>\n",
       "    <tr>\n",
       "      <th>25</th>\n",
       "      <td>81452156.0</td>\n",
       "      <td>16000000</td>\n",
       "    </tr>\n",
       "    <tr>\n",
       "      <th>28</th>\n",
       "      <td>76578911.0</td>\n",
       "      <td>0</td>\n",
       "    </tr>\n",
       "    <tr>\n",
       "      <th>...</th>\n",
       "      <td>...</td>\n",
       "      <td>...</td>\n",
       "    </tr>\n",
       "    <tr>\n",
       "      <th>419723</th>\n",
       "      <td>0.0</td>\n",
       "      <td>0</td>\n",
       "    </tr>\n",
       "    <tr>\n",
       "      <th>419773</th>\n",
       "      <td>0.0</td>\n",
       "      <td>0</td>\n",
       "    </tr>\n",
       "    <tr>\n",
       "      <th>419774</th>\n",
       "      <td>0.0</td>\n",
       "      <td>0</td>\n",
       "    </tr>\n",
       "    <tr>\n",
       "      <th>419777</th>\n",
       "      <td>0.0</td>\n",
       "      <td>0</td>\n",
       "    </tr>\n",
       "    <tr>\n",
       "      <th>419778</th>\n",
       "      <td>0.0</td>\n",
       "      <td>0</td>\n",
       "    </tr>\n",
       "  </tbody>\n",
       "</table>\n",
       "<p>45346 rows × 2 columns</p>\n",
       "</div>"
      ],
      "text/plain": [
       "            revenue    budget\n",
       "0       373554033.0  30000000\n",
       "3       262797249.0  65000000\n",
       "21              0.0         0\n",
       "25       81452156.0  16000000\n",
       "28       76578911.0         0\n",
       "...             ...       ...\n",
       "419723          0.0         0\n",
       "419773          0.0         0\n",
       "419774          0.0         0\n",
       "419777          0.0         0\n",
       "419778          0.0         0\n",
       "\n",
       "[45346 rows x 2 columns]"
      ]
     },
     "execution_count": 28,
     "metadata": {},
     "output_type": "execute_result"
    }
   ],
   "source": [
    "df_movies_full[['revenue', 'budget']]"
   ]
  },
  {
   "cell_type": "code",
   "execution_count": 29,
   "metadata": {},
   "outputs": [
    {
     "data": {
      "text/plain": [
       "Index(['budget', 'id_movie', 'original_language', 'overview', 'popularity',\n",
       "       'release_date', 'revenue', 'runtime', 'status', 'tagline', 'title',\n",
       "       'vote_average', 'vote_count', 'id_franchise', 'collection_name',\n",
       "       'backdrop_path', 'id_genres', 'genres', 'production_companies',\n",
       "       'id_company', 'country_code', 'production_countries', 'language_code',\n",
       "       'language', 'release_year', 'return'],\n",
       "      dtype='object')"
      ]
     },
     "execution_count": 29,
     "metadata": {},
     "output_type": "execute_result"
    }
   ],
   "source": [
    "df_movies_full.columns"
   ]
  },
  {
   "cell_type": "markdown",
   "metadata": {},
   "source": [
    "## 2.2.2 df_credits_full"
   ]
  },
  {
   "cell_type": "code",
   "execution_count": 30,
   "metadata": {},
   "outputs": [
    {
     "data": {
      "text/plain": [
       "Index(['id_movie', 'crew_creditid', 'department', 'gender', 'id_member', 'job',\n",
       "       'member_name', 'member_profile_path', 'cast_id', 'character',\n",
       "       'cast_creditid', 'gender', 'id_actor', 'actor_name', 'order',\n",
       "       'actor_profile_path'],\n",
       "      dtype='object')"
      ]
     },
     "execution_count": 30,
     "metadata": {},
     "output_type": "execute_result"
    }
   ],
   "source": [
    "df_credits_full.columns"
   ]
  },
  {
   "cell_type": "markdown",
   "metadata": {},
   "source": [
    "Al igual que el dataframe anterior se verificarán los duplicados que se presentan segun id_movie para disminuir la cantidad de datos y eliminarlos"
   ]
  },
  {
   "cell_type": "code",
   "execution_count": 31,
   "metadata": {},
   "outputs": [
    {
     "name": "stdout",
     "output_type": "stream",
     "text": [
      "(9484668, 16)\n"
     ]
    },
    {
     "data": {
      "text/plain": [
       "877796"
      ]
     },
     "execution_count": 31,
     "metadata": {},
     "output_type": "execute_result"
    }
   ],
   "source": [
    "print(df_credits_full.shape)\n",
    "df_credits_full.duplicated(keep='first').sum()"
   ]
  },
  {
   "cell_type": "code",
   "execution_count": 32,
   "metadata": {},
   "outputs": [],
   "source": [
    "df_credits_full.drop_duplicates(subset='id_movie', inplace=True)"
   ]
  },
  {
   "cell_type": "markdown",
   "metadata": {},
   "source": [
    "# 3. Desarrollo de funciones y disponibilización de datos"
   ]
  },
  {
   "cell_type": "markdown",
   "metadata": {},
   "source": [
    "### 3.1 Primera funcción: ** def cantidad filmaciones_mes(Mes: str)\n",
    "\n",
    "###### Se ingresa un mes en idioma Español. Debe devolver la cantidad d epelículas que fueron estrenadas en el mes consultado en la totalidad del dataset\n",
    "\n",
    "###### el perimer paso es crear un nuevo dataframe usando 'merge'. lo cual nos genera un join entre dataframes teniendo en cuenta una columna clave.\n",
    "\n",
    "###### el objetivo de este nuevo dataframe se obtener la cantidad de peliculas estrenadas en el mes.\n",
    "\n",
    "###### En este caso usaremos como columna clave el 'id_movie'. en ambos dataframe se encuentran bajo ese mismo nombre.\n",
    "###### para usarlas ambas deben tener el mismo tipo de dato float"
   ]
  },
  {
   "cell_type": "code",
   "execution_count": 33,
   "metadata": {},
   "outputs": [],
   "source": [
    "df_credits_full['id_movie']= df_credits_full['id_movie'].astype(float)\n",
    "df_movies_full['id_movie']= df_movies_full['id_movie'].astype(float)"
   ]
  },
  {
   "cell_type": "markdown",
   "metadata": {},
   "source": [
    "##### hacemos la unión enrte los dos dataframes usando como columnas claves la llamada 'id_movie'"
   ]
  },
  {
   "cell_type": "code",
   "execution_count": 34,
   "metadata": {},
   "outputs": [],
   "source": [
    "df_movies_credits = df_movies_full.merge(df_credits_full, left_on='id_movie', right_on='id_movie', how='left')"
   ]
  },
  {
   "cell_type": "markdown",
   "metadata": {},
   "source": [
    "##### En este caso eliminamos los valores nulos ya que corresponden a una minima parte del total de datos, por lo que no influiría en el análisis."
   ]
  },
  {
   "cell_type": "code",
   "execution_count": 35,
   "metadata": {},
   "outputs": [
    {
     "name": "stdout",
     "output_type": "stream",
     "text": [
      "(44033, 3)\n",
      "title           0\n",
      "release_date    0\n",
      "language        0\n",
      "dtype: int64\n"
     ]
    }
   ],
   "source": [
    "df_f1 = (df_movies_credits[['title' ,'release_date', 'language']]).dropna(subset=['language'])\n",
    "print(df_f1.shape)\n",
    "print(df_f1.isnull().sum())"
   ]
  },
  {
   "cell_type": "code",
   "execution_count": 36,
   "metadata": {},
   "outputs": [
    {
     "name": "stdout",
     "output_type": "stream",
     "text": [
      "<class 'pandas.core.frame.DataFrame'>\n",
      "Index: 44033 entries, 0 to 44032\n",
      "Data columns (total 3 columns):\n",
      " #   Column        Non-Null Count  Dtype         \n",
      "---  ------        --------------  -----         \n",
      " 0   title         44033 non-null  object        \n",
      " 1   release_date  44033 non-null  datetime64[ns]\n",
      " 2   language      44033 non-null  object        \n",
      "dtypes: datetime64[ns](1), object(2)\n",
      "memory usage: 1.3+ MB\n"
     ]
    }
   ],
   "source": [
    "df_f1.info()"
   ]
  },
  {
   "cell_type": "code",
   "execution_count": 37,
   "metadata": {},
   "outputs": [],
   "source": [
    "def cantidad_filmaciones_mes(mes):\n",
    "    #Mapeo de nombre de meses en español a números de mes\n",
    "    meses= {\n",
    "        'enero': 1, 'febrero': 2, 'marzo': 3, 'abril': 4,\n",
    "        'mayo': 5, 'junio': 6, 'julio': 7, 'agosto': 8,\n",
    "        'septiembre': 9, 'octubre': 10, 'noviembre': 11, 'diciembre': 12\n",
    "    }\n",
    "    #Obtener el número del mes a partir del nombre del mes en español\n",
    "    mes_numero = meses.get(mes.lower())\n",
    "    if mes_numero is None:\n",
    "        return \"Mes inválido\"\n",
    "\n",
    "    #Filtrar las peliculas por el mes solicitado\n",
    "    peliculas_mes = df_f1[df_f1['release_date'].dt.month == mes_numero]\n",
    "\n",
    "    #Contar la cantidad de películas\n",
    "    cantidad_películas = peliculas_mes.shape[0]\n",
    "\n",
    "    return f\"{cantidad_películas} cantidad de peliculas fueronfueron estrenadas el mes de {mes.capitalize()}\""
   ]
  },
  {
   "cell_type": "markdown",
   "metadata": {},
   "source": [
    "### 3.2 Segunda función: def cantidad_filmaciones_dia (Día)\n",
    "###### Se ingresa día en idioma español el cual debe devolver la cantidad de películas entrenadas en día consultado en la totalidad del data set\n",
    "\n",
    "###### Se utilizarán las columnas id_movies"
   ]
  },
  {
   "cell_type": "code",
   "execution_count": 38,
   "metadata": {},
   "outputs": [],
   "source": [
    "df_f2 = df_f1"
   ]
  },
  {
   "cell_type": "code",
   "execution_count": 39,
   "metadata": {},
   "outputs": [],
   "source": [
    "def cantidad_filmaciones_dia(Dia):\n",
    "    # Días de la semana en español y su correspondencia con strftime('%A')\n",
    "    dias_semana = {\n",
    "        'lunes': 'Monday',\n",
    "        'martes': 'Tuesday',\n",
    "        'miercoles': 'Wednesday',\n",
    "        'jueves': 'Thursday',\n",
    "        'viernes': 'Friday',\n",
    "        'sabado': 'Saturday',\n",
    "        'domingo': 'Sunday'\n",
    "    }\n",
    "    \n",
    "    # Convertir el día en español a su nombre correspondiente en inglés\n",
    "    dia_ingles = dias_semana.get(Dia.lower(), None)\n",
    "    \n",
    "    if dia_ingles:\n",
    "        # Filtrar las películas que se estrenaron en el día especificado\n",
    "        peliculas_dia = df_f2[df_f2['release_date'].apply(lambda x: pd.to_datetime(x).strftime('%A')) == dia_ingles]\n",
    "        \n",
    "        # Contar la cantidad de películas\n",
    "        cantidad = len(peliculas_dia)\n",
    "        \n",
    "        # Mensaje de retorno\n",
    "        return f\"{cantidad} cantidad de películas fueron estrenadas en los días {Dia.capitalize()}\"\n",
    "    else:\n",
    "        return f\"No se encontró el día '{Dia}' en el dataset.\""
   ]
  },
  {
   "cell_type": "code",
   "execution_count": 40,
   "metadata": {},
   "outputs": [
    {
     "data": {
      "text/plain": [
       "'3365 cantidad de películas fueron estrenadas en los días Lunes'"
      ]
     },
     "execution_count": 40,
     "metadata": {},
     "output_type": "execute_result"
    }
   ],
   "source": [
    "cantidad_filmaciones_dia('LuNeS')"
   ]
  },
  {
   "cell_type": "markdown",
   "metadata": {},
   "source": [
    "### 3.3 Tercera función: def score_titulo( titulo_de_la_filmación ): Se ingresa el título de una filmación esperando como respuesta el título, el año de estreno y el score."
   ]
  },
  {
   "cell_type": "code",
   "execution_count": 41,
   "metadata": {},
   "outputs": [
    {
     "data": {
      "text/plain": [
       "Index(['budget', 'id_movie', 'original_language', 'overview', 'popularity',\n",
       "       'release_date', 'revenue', 'runtime', 'status', 'tagline', 'title',\n",
       "       'vote_average', 'vote_count', 'id_franchise', 'collection_name',\n",
       "       'backdrop_path', 'id_genres', 'genres', 'production_companies',\n",
       "       'id_company', 'country_code', 'production_countries', 'language_code',\n",
       "       'language', 'release_year', 'return', 'crew_creditid', 'department',\n",
       "       'gender', 'id_member', 'job', 'member_name', 'member_profile_path',\n",
       "       'cast_id', 'character', 'cast_creditid', 'gender', 'id_actor',\n",
       "       'actor_name', 'order', 'actor_profile_path'],\n",
       "      dtype='object')"
      ]
     },
     "execution_count": 41,
     "metadata": {},
     "output_type": "execute_result"
    }
   ],
   "source": [
    "df_movies_credits.columns   "
   ]
  },
  {
   "cell_type": "code",
   "execution_count": 42,
   "metadata": {},
   "outputs": [],
   "source": [
    "df_f3 = df_movies_credits[['title', 'release_year',  'vote_average']]"
   ]
  },
  {
   "cell_type": "code",
   "execution_count": 43,
   "metadata": {},
   "outputs": [],
   "source": [
    "def score_titulo(titulo_de_la_filmacion):\n",
    "    # Convertir el título ingresado a minúsculas\n",
    "    titulo_de_la_filmacion = titulo_de_la_filmacion.strip().lower()\n",
    "    \n",
    "    # Convertir los títulos en el DataFrame a minúsculas\n",
    "    df_f3.loc[:, 'title'] = df_f3['title'].str.strip().str.lower()\n",
    "    \n",
    "    # Buscar la película por título (en minúsculas)\n",
    "    pelicula = df_f3[df_f3['title'] == titulo_de_la_filmacion]\n",
    "    \n",
    "    # Verificar si se encontró la película\n",
    "    if len(pelicula) == 0:\n",
    "        return f\"No se encontró la película '{titulo_de_la_filmacion}' en la base de datos.\"\n",
    "    \n",
    "    # Obtener información de la película\n",
    "    titulo = pelicula['title'].values[0]\n",
    "    año_estreno = pelicula['release_year'].values[0]\n",
    "    score = pelicula['vote_average'].values[0]\n",
    "    \n",
    "    # Construir el mensaje de retorno\n",
    "    mensaje = f\"La película '{titulo}' fue estrenada en el año {año_estreno} con un score/popularidad de {score}.\"\n",
    "    \n",
    "    return mensaje\n"
   ]
  },
  {
   "cell_type": "code",
   "execution_count": 44,
   "metadata": {},
   "outputs": [
    {
     "data": {
      "text/plain": [
       "\"La película 'toy story' fue estrenada en el año 1995 con un score/popularidad de 7.7.\""
      ]
     },
     "execution_count": 44,
     "metadata": {},
     "output_type": "execute_result"
    }
   ],
   "source": [
    "score_titulo('toy story')"
   ]
  },
  {
   "cell_type": "code",
   "execution_count": 45,
   "metadata": {},
   "outputs": [
    {
     "data": {
      "text/plain": [
       "0        12.451801\n",
       "1         4.043035\n",
       "2         0.000000\n",
       "3         5.090760\n",
       "4         0.000000\n",
       "           ...    \n",
       "45341     0.000000\n",
       "45342     0.000000\n",
       "45343     0.000000\n",
       "45344     0.000000\n",
       "45345     0.000000\n",
       "Name: return, Length: 45346, dtype: float64"
      ]
     },
     "execution_count": 45,
     "metadata": {},
     "output_type": "execute_result"
    }
   ],
   "source": [
    "df_movies_credits['return']"
   ]
  },
  {
   "cell_type": "markdown",
   "metadata": {},
   "source": [
    "## 3.4 votos_titulo( titulo_de_la_filmación ) \n",
    "##### Se ingresa el título de una filmación esperando como respuesta el título, la cantidad de votos y el valor promedio de las votaciones. La misma variable deberá de contar con al menos 2000 valoraciones, caso contrario, debemos contar con un mensaje avisando que no cumple esta condición y que por ende, no se devuelve ningun valor.\n",
    "\n",
    "##### se crea dataframe con las columnas a utilizar que en este caso serán: 'title', 'vote_count' y 'vote_average'"
   ]
  },
  {
   "cell_type": "code",
   "execution_count": 46,
   "metadata": {},
   "outputs": [],
   "source": [
    "df_f4 = df_movies_credits[['title', 'vote_count',  'vote_average', 'release_year']]"
   ]
  },
  {
   "cell_type": "code",
   "execution_count": 47,
   "metadata": {},
   "outputs": [],
   "source": [
    "def votos_titulo(titulo_de_la_filmacion):\n",
    "    # Normalizar el título de la filmación: quitar espacios y convertir a minúsculas\n",
    "    titulo_normalizado = titulo_de_la_filmacion.replace(\" \", \"\").lower()\n",
    "\n",
    "    # Filtrar el DataFrame para encontrar el título, ignorando mayúsculas, minúsculas y espacios\n",
    "    filmacion = df_f4[df_f4['title'].str.replace(\" \", \"\").str.lower() == titulo_normalizado]\n",
    "\n",
    "    if not filmacion.empty:\n",
    "        # Obtener los valores de 'vote_count' y 'vote_average'\n",
    "        vote_count = filmacion['vote_count'].values[0]\n",
    "        vote_average = filmacion['vote_average'].values[0]\n",
    "        title = filmacion['title'].values[0]\n",
    "        release_year = filmacion['release_year'].values[0]\n",
    "        \n",
    "        # Verificar si tiene al menos 2000 valoraciones\n",
    "        if vote_count >= 2000:\n",
    "            return f\"La película {title} fue estrenada en el año {release_year}. La misma cuenta con un total de {vote_count} valoraciones, con un promedio de {vote_average}.\"\n",
    "        else:\n",
    "            return \"La filmación no cumple con el requisito de tener al menos 2000 valoraciones, no se devuelve ningún valor.\"\n",
    "    else:\n",
    "        return \"No se encontró ninguna filmación con el título proporcionado.\""
   ]
  },
  {
   "cell_type": "code",
   "execution_count": 48,
   "metadata": {},
   "outputs": [
    {
     "data": {
      "text/plain": [
       "'La película Toy Story fue estrenada en el año 1995. La misma cuenta con un total de 5415.0 valoraciones, con un promedio de 7.7.'"
      ]
     },
     "execution_count": 48,
     "metadata": {},
     "output_type": "execute_result"
    }
   ],
   "source": [
    "votos_titulo('toy Story')"
   ]
  },
  {
   "cell_type": "markdown",
   "metadata": {},
   "source": [
    "## 3.5 quinta función: def get_actor( nombre_actor ): \n",
    "##### Se ingresa el nombre de un actor que se encuentre dentro de un dataset debiendo devolver el éxito del mismo medido a través del retorno. Además, la cantidad de películas que en las que ha participado y el promedio de retorno. La definición no deberá considerar directores."
   ]
  },
  {
   "cell_type": "code",
   "execution_count": 49,
   "metadata": {},
   "outputs": [],
   "source": [
    "df_f5_1 = df_movies_credits[['revenue', 'return', 'actor_name']]\n"
   ]
  },
  {
   "cell_type": "code",
   "execution_count": 50,
   "metadata": {},
   "outputs": [
    {
     "name": "stdout",
     "output_type": "stream",
     "text": [
      "revenue         0\n",
      "return          0\n",
      "actor_name    111\n",
      "dtype: int64\n"
     ]
    },
    {
     "data": {
      "text/plain": [
       "revenue       0\n",
       "return        0\n",
       "actor_name    0\n",
       "dtype: int64"
      ]
     },
     "execution_count": 50,
     "metadata": {},
     "output_type": "execute_result"
    }
   ],
   "source": [
    "print(df_f5_1.isnull().sum())\n",
    "df_f5 = df_f5_1.dropna()\n",
    "df_f5.isnull().sum()\n",
    "\n"
   ]
  },
  {
   "cell_type": "code",
   "execution_count": 51,
   "metadata": {},
   "outputs": [],
   "source": [
    "def get_actor(nombre_actor):\n",
    "    #Normalizar el nombre del actor (convertir a minúsculas y eliminar espacios\n",
    "    nombre_actor = nombre_actor.replace(\" \", \"\").lower()\n",
    "    cantidad_peliculas = 0\n",
    "    retorno_total = 0.0\n",
    "    \n",
    "    # Recorrer el DataFrame para buscar al actor y calcular retorno total y cantidad de películas\n",
    "    for index, row in df_f5.iterrows():\n",
    "        #Normalizar el nombre del actor en caada fila del DataFrame\n",
    "        actor_en_registro = row['actor_name'].replace(\" \", \"\").lower()\n",
    "\n",
    "        #comparar nombre normalizados\n",
    "        if actor_en_registro== nombre_actor:\n",
    "            retorno_total += row['return']\n",
    "            cantidad_peliculas += 1\n",
    "    \n",
    "    # Calcular el promedio de retorno\n",
    "    if cantidad_peliculas > 0:\n",
    "        promedio_retorno = round(retorno_total / cantidad_peliculas, 2)\n",
    "    else:\n",
    "        promedio_retorno = 0.0\n",
    "    \n",
    "    # Generar el mensaje de retorno\n",
    "    mensaje = f\"El actor {nombre_actor} ha participado en {cantidad_peliculas} filmaciones, ha conseguido un retorno de {round(retorno_total,2)} con un promedio de {promedio_retorno} por filmación.\"\n",
    "    \n",
    "    return mensaje\n",
    "\n",
    "\n"
   ]
  },
  {
   "cell_type": "code",
   "execution_count": 52,
   "metadata": {},
   "outputs": [
    {
     "data": {
      "text/plain": [
       "'El actor denzelwashington ha participado en 5 filmaciones, ha conseguido un retorno de 2.84 con un promedio de 0.57 por filmación.'"
      ]
     },
     "execution_count": 52,
     "metadata": {},
     "output_type": "execute_result"
    }
   ],
   "source": [
    "get_actor('DenzelWashington')"
   ]
  },
  {
   "cell_type": "markdown",
   "metadata": {},
   "source": [
    "## 3.6 sexta función: def get_director( nombre_director ): \n",
    "##### Se ingresa el nombre de un director que se encuentre dentro de un dataset debiendo devolver el éxito del mismo medido a través del retorno. Además, deberá devolver el nombre de cada película con la fecha de lanzamiento, retorno individual, costo y ganancia de la misma.\n"
   ]
  },
  {
   "cell_type": "markdown",
   "metadata": {},
   "source": [
    "###### Se genera el dataframe con las columnas nombre, job, return, title, release_date, budget y revenue"
   ]
  },
  {
   "cell_type": "code",
   "execution_count": 53,
   "metadata": {},
   "outputs": [],
   "source": [
    "df_f6_1 = df_movies_credits[['member_name', 'job', 'return', 'title', 'release_date', 'budget', 'revenue']]"
   ]
  },
  {
   "cell_type": "code",
   "execution_count": 54,
   "metadata": {},
   "outputs": [
    {
     "name": "stdout",
     "output_type": "stream",
     "text": [
      "member_name     45\n",
      "job             45\n",
      "return           0\n",
      "title            0\n",
      "release_date     0\n",
      "budget           0\n",
      "revenue          0\n",
      "dtype: int64\n"
     ]
    },
    {
     "data": {
      "text/plain": [
       "member_name     0\n",
       "job             0\n",
       "return          0\n",
       "title           0\n",
       "release_date    0\n",
       "budget          0\n",
       "revenue         0\n",
       "dtype: int64"
      ]
     },
     "execution_count": 54,
     "metadata": {},
     "output_type": "execute_result"
    }
   ],
   "source": [
    "print(df_f6_1.isnull().sum())\n",
    "df_f6 = df_f6_1.dropna()\n",
    "df_f6.isnull().sum()"
   ]
  },
  {
   "cell_type": "code",
   "execution_count": 55,
   "metadata": {},
   "outputs": [],
   "source": [
    "def get_director(nombre_director):\n",
    "    nombre_director = ''.join(nombre_director.lower().split())\n",
    "    # Filtrar por el nombre del director y el trabajo específico (suponemos 'Director')\n",
    "    director_data = df_f6[(df_f6['member_name'].str.lower().str.replace( ' ', '') == nombre_director) & (df_f6['job'] == 'Director')]\n",
    "\n",
    "    if director_data.empty:\n",
    "        return f\"No se encontraron datos para el director {nombre_director}\"\n",
    "\n",
    "    # Preparar los datos para devolver\n",
    "    director_info = []\n",
    "    for index, row in director_data.iterrows():\n",
    "        info_pelicula = {\n",
    "            'Película': row['title'],\n",
    "            'Fecha de lanzamiento': (pd.to_datetime(row['release_date']).date()).strftime('%Y-%m-%d'),\n",
    "            'Retorno': round(row['return'],4),\n",
    "            'Costo': row['budget'],\n",
    "            'Ganancia': row['revenue']\n",
    "        }\n",
    "        director_info.append(info_pelicula)\n",
    "\n",
    "    return director_info"
   ]
  },
  {
   "cell_type": "code",
   "execution_count": 56,
   "metadata": {},
   "outputs": [
    {
     "data": {
      "text/plain": [
       "[{'Película': 'Pulp Fiction',\n",
       "  'Fecha de lanzamiento': '1994-09-10',\n",
       "  'Retorno': 26.7411,\n",
       "  'Costo': 8000000,\n",
       "  'Ganancia': 213928762.0}]"
      ]
     },
     "execution_count": 56,
     "metadata": {},
     "output_type": "execute_result"
    }
   ],
   "source": [
    "get_director('QuentintArantino')"
   ]
  },
  {
   "cell_type": "markdown",
   "metadata": {},
   "source": [
    "## 4. Análisis exploratorio - EDA"
   ]
  },
  {
   "cell_type": "markdown",
   "metadata": {},
   "source": [
    "Aquí se realizará el análisis exploratorio del dataset que se obtuvo luego de la limpeiza de datos realizada en el punto 2, el cual servirá como base para la creación del modelo de recomendación.\n",
    "\n",
    "El data set que utilizaremos es:\n",
    "- df_movies_full\n",
    "\n",
    "Para esto se utilizarán las siguientes librerías\n",
    "\n"
   ]
  },
  {
   "cell_type": "code",
   "execution_count": 57,
   "metadata": {},
   "outputs": [],
   "source": [
    "import matplotlib.pyplot as plt\n",
    "import seaborn as sns"
   ]
  },
  {
   "cell_type": "markdown",
   "metadata": {},
   "source": [
    "## 4.1 Exploración DataFrame"
   ]
  },
  {
   "cell_type": "markdown",
   "metadata": {},
   "source": [
    "se observan las primeras filas"
   ]
  },
  {
   "cell_type": "code",
   "execution_count": 58,
   "metadata": {},
   "outputs": [
    {
     "data": {
      "text/html": [
       "<div>\n",
       "<style scoped>\n",
       "    .dataframe tbody tr th:only-of-type {\n",
       "        vertical-align: middle;\n",
       "    }\n",
       "\n",
       "    .dataframe tbody tr th {\n",
       "        vertical-align: top;\n",
       "    }\n",
       "\n",
       "    .dataframe thead th {\n",
       "        text-align: right;\n",
       "    }\n",
       "</style>\n",
       "<table border=\"1\" class=\"dataframe\">\n",
       "  <thead>\n",
       "    <tr style=\"text-align: right;\">\n",
       "      <th></th>\n",
       "      <th>budget</th>\n",
       "      <th>id_movie</th>\n",
       "      <th>original_language</th>\n",
       "      <th>overview</th>\n",
       "      <th>popularity</th>\n",
       "      <th>release_date</th>\n",
       "      <th>revenue</th>\n",
       "      <th>runtime</th>\n",
       "      <th>status</th>\n",
       "      <th>tagline</th>\n",
       "      <th>...</th>\n",
       "      <th>id_genres</th>\n",
       "      <th>genres</th>\n",
       "      <th>production_companies</th>\n",
       "      <th>id_company</th>\n",
       "      <th>country_code</th>\n",
       "      <th>production_countries</th>\n",
       "      <th>language_code</th>\n",
       "      <th>language</th>\n",
       "      <th>release_year</th>\n",
       "      <th>return</th>\n",
       "    </tr>\n",
       "  </thead>\n",
       "  <tbody>\n",
       "    <tr>\n",
       "      <th>0</th>\n",
       "      <td>30000000</td>\n",
       "      <td>862.0</td>\n",
       "      <td>en</td>\n",
       "      <td>Led by Woody, Andy's toys live happily in his ...</td>\n",
       "      <td>21.946943</td>\n",
       "      <td>1995-10-30</td>\n",
       "      <td>373554033.0</td>\n",
       "      <td>81.0</td>\n",
       "      <td>Released</td>\n",
       "      <td>NaN</td>\n",
       "      <td>...</td>\n",
       "      <td>16.0</td>\n",
       "      <td>Animation</td>\n",
       "      <td>Pixar Animation Studios</td>\n",
       "      <td>3.0</td>\n",
       "      <td>US</td>\n",
       "      <td>United States of America</td>\n",
       "      <td>en</td>\n",
       "      <td>English</td>\n",
       "      <td>1995</td>\n",
       "      <td>12.451801</td>\n",
       "    </tr>\n",
       "    <tr>\n",
       "      <th>3</th>\n",
       "      <td>65000000</td>\n",
       "      <td>8844.0</td>\n",
       "      <td>en</td>\n",
       "      <td>When siblings Judy and Peter discover an encha...</td>\n",
       "      <td>17.015539</td>\n",
       "      <td>1995-12-15</td>\n",
       "      <td>262797249.0</td>\n",
       "      <td>104.0</td>\n",
       "      <td>Released</td>\n",
       "      <td>Roll the dice and unleash the excitement!</td>\n",
       "      <td>...</td>\n",
       "      <td>12.0</td>\n",
       "      <td>Adventure</td>\n",
       "      <td>TriStar Pictures</td>\n",
       "      <td>559.0</td>\n",
       "      <td>US</td>\n",
       "      <td>United States of America</td>\n",
       "      <td>en</td>\n",
       "      <td>English</td>\n",
       "      <td>1995</td>\n",
       "      <td>4.043035</td>\n",
       "    </tr>\n",
       "    <tr>\n",
       "      <th>21</th>\n",
       "      <td>0</td>\n",
       "      <td>15602.0</td>\n",
       "      <td>en</td>\n",
       "      <td>A family wedding reignites the ancient feud be...</td>\n",
       "      <td>11.7129</td>\n",
       "      <td>1995-12-22</td>\n",
       "      <td>0.0</td>\n",
       "      <td>101.0</td>\n",
       "      <td>Released</td>\n",
       "      <td>Still Yelling. Still Fighting. Still Ready for...</td>\n",
       "      <td>...</td>\n",
       "      <td>10749.0</td>\n",
       "      <td>Romance</td>\n",
       "      <td>Warner Bros.</td>\n",
       "      <td>6194.0</td>\n",
       "      <td>US</td>\n",
       "      <td>United States of America</td>\n",
       "      <td>en</td>\n",
       "      <td>English</td>\n",
       "      <td>1995</td>\n",
       "      <td>0.000000</td>\n",
       "    </tr>\n",
       "  </tbody>\n",
       "</table>\n",
       "<p>3 rows × 26 columns</p>\n",
       "</div>"
      ],
      "text/plain": [
       "      budget  id_movie original_language  \\\n",
       "0   30000000     862.0                en   \n",
       "3   65000000    8844.0                en   \n",
       "21         0   15602.0                en   \n",
       "\n",
       "                                             overview popularity release_date  \\\n",
       "0   Led by Woody, Andy's toys live happily in his ...  21.946943   1995-10-30   \n",
       "3   When siblings Judy and Peter discover an encha...  17.015539   1995-12-15   \n",
       "21  A family wedding reignites the ancient feud be...    11.7129   1995-12-22   \n",
       "\n",
       "        revenue  runtime    status  \\\n",
       "0   373554033.0     81.0  Released   \n",
       "3   262797249.0    104.0  Released   \n",
       "21          0.0    101.0  Released   \n",
       "\n",
       "                                              tagline  ... id_genres  \\\n",
       "0                                                 NaN  ...      16.0   \n",
       "3           Roll the dice and unleash the excitement!  ...      12.0   \n",
       "21  Still Yelling. Still Fighting. Still Ready for...  ...   10749.0   \n",
       "\n",
       "       genres     production_companies  id_company country_code  \\\n",
       "0   Animation  Pixar Animation Studios         3.0           US   \n",
       "3   Adventure         TriStar Pictures       559.0           US   \n",
       "21    Romance             Warner Bros.      6194.0           US   \n",
       "\n",
       "        production_countries  language_code language release_year     return  \n",
       "0   United States of America             en  English         1995  12.451801  \n",
       "3   United States of America             en  English         1995   4.043035  \n",
       "21  United States of America             en  English         1995   0.000000  \n",
       "\n",
       "[3 rows x 26 columns]"
      ]
     },
     "execution_count": 58,
     "metadata": {},
     "output_type": "execute_result"
    }
   ],
   "source": [
    "df_movies_full.head(3)"
   ]
  },
  {
   "cell_type": "markdown",
   "metadata": {},
   "source": [
    "se obtiene la información de columnas y tipos de datos"
   ]
  },
  {
   "cell_type": "code",
   "execution_count": 59,
   "metadata": {},
   "outputs": [
    {
     "name": "stdout",
     "output_type": "stream",
     "text": [
      "<class 'pandas.core.frame.DataFrame'>\n",
      "Index: 45346 entries, 0 to 419778\n",
      "Data columns (total 26 columns):\n",
      " #   Column                Non-Null Count  Dtype         \n",
      "---  ------                --------------  -----         \n",
      " 0   budget                45346 non-null  int64         \n",
      " 1   id_movie              45346 non-null  float64       \n",
      " 2   original_language     45335 non-null  object        \n",
      " 3   overview              44405 non-null  object        \n",
      " 4   popularity            45346 non-null  object        \n",
      " 5   release_date          45346 non-null  datetime64[ns]\n",
      " 6   revenue               45346 non-null  float64       \n",
      " 7   runtime               45100 non-null  float64       \n",
      " 8   status                45266 non-null  object        \n",
      " 9   tagline               20387 non-null  object        \n",
      " 10  title                 45346 non-null  object        \n",
      " 11  vote_average          45346 non-null  float64       \n",
      " 12  vote_count            45346 non-null  float64       \n",
      " 13  id_franchise          4716 non-null   float64       \n",
      " 14  collection_name       4716 non-null   object        \n",
      " 15  backdrop_path         3906 non-null   object        \n",
      " 16  id_genres             44684 non-null  float64       \n",
      " 17  genres                44684 non-null  object        \n",
      " 18  production_companies  40574 non-null  object        \n",
      " 19  id_company            40574 non-null  float64       \n",
      " 20  country_code          43083 non-null  object        \n",
      " 21  production_countries  43083 non-null  object        \n",
      " 22  language_code         44033 non-null  object        \n",
      " 23  language              44033 non-null  object        \n",
      " 24  release_year          45346 non-null  int32         \n",
      " 25  return                45346 non-null  float64       \n",
      "dtypes: datetime64[ns](1), float64(9), int32(1), int64(1), object(14)\n",
      "memory usage: 9.2+ MB\n"
     ]
    }
   ],
   "source": [
    "df_movies_full.info()"
   ]
  },
  {
   "cell_type": "markdown",
   "metadata": {},
   "source": [
    "se observan las cantidades de filas y columnas"
   ]
  },
  {
   "cell_type": "code",
   "execution_count": 60,
   "metadata": {},
   "outputs": [
    {
     "data": {
      "text/plain": [
       "(45346, 26)"
      ]
     },
     "execution_count": 60,
     "metadata": {},
     "output_type": "execute_result"
    }
   ],
   "source": [
    "df_movies_full.shape"
   ]
  },
  {
   "cell_type": "markdown",
   "metadata": {},
   "source": [
    "obtendemos estadisticas de revenue y budget"
   ]
  },
  {
   "cell_type": "code",
   "execution_count": 61,
   "metadata": {},
   "outputs": [
    {
     "data": {
      "text/html": [
       "<div>\n",
       "<style scoped>\n",
       "    .dataframe tbody tr th:only-of-type {\n",
       "        vertical-align: middle;\n",
       "    }\n",
       "\n",
       "    .dataframe tbody tr th {\n",
       "        vertical-align: top;\n",
       "    }\n",
       "\n",
       "    .dataframe thead th {\n",
       "        text-align: right;\n",
       "    }\n",
       "</style>\n",
       "<table border=\"1\" class=\"dataframe\">\n",
       "  <thead>\n",
       "    <tr style=\"text-align: right;\">\n",
       "      <th></th>\n",
       "      <th>revenue</th>\n",
       "      <th>budget</th>\n",
       "    </tr>\n",
       "  </thead>\n",
       "  <tbody>\n",
       "    <tr>\n",
       "      <th>count</th>\n",
       "      <td>45346.00</td>\n",
       "      <td>45346.00</td>\n",
       "    </tr>\n",
       "    <tr>\n",
       "      <th>mean</th>\n",
       "      <td>11233655.14</td>\n",
       "      <td>4232579.76</td>\n",
       "    </tr>\n",
       "    <tr>\n",
       "      <th>std</th>\n",
       "      <td>64409895.68</td>\n",
       "      <td>17443730.79</td>\n",
       "    </tr>\n",
       "    <tr>\n",
       "      <th>min</th>\n",
       "      <td>0.00</td>\n",
       "      <td>0.00</td>\n",
       "    </tr>\n",
       "    <tr>\n",
       "      <th>25%</th>\n",
       "      <td>0.00</td>\n",
       "      <td>0.00</td>\n",
       "    </tr>\n",
       "    <tr>\n",
       "      <th>50%</th>\n",
       "      <td>0.00</td>\n",
       "      <td>0.00</td>\n",
       "    </tr>\n",
       "    <tr>\n",
       "      <th>75%</th>\n",
       "      <td>0.00</td>\n",
       "      <td>0.00</td>\n",
       "    </tr>\n",
       "    <tr>\n",
       "      <th>max</th>\n",
       "      <td>2787965087.00</td>\n",
       "      <td>380000000.00</td>\n",
       "    </tr>\n",
       "  </tbody>\n",
       "</table>\n",
       "</div>"
      ],
      "text/plain": [
       "            revenue       budget\n",
       "count      45346.00     45346.00\n",
       "mean    11233655.14   4232579.76\n",
       "std     64409895.68  17443730.79\n",
       "min            0.00         0.00\n",
       "25%            0.00         0.00\n",
       "50%            0.00         0.00\n",
       "75%            0.00         0.00\n",
       "max   2787965087.00 380000000.00"
      ]
     },
     "execution_count": 61,
     "metadata": {},
     "output_type": "execute_result"
    }
   ],
   "source": [
    "pd.options.display.float_format = '{:.2f}'.format # para que no entregue los valores en notación cientifica\n",
    "df_movies_full[['revenue', 'budget']].describe()"
   ]
  },
  {
   "cell_type": "markdown",
   "metadata": {},
   "source": [
    "De aqui se concluye que el promedio de ganancias es de 11.233.655 USD y 4.232.579 USD de presupuesto\n",
    "una ganancia máxima de : 2.787.965.087 USD."
   ]
  },
  {
   "cell_type": "markdown",
   "metadata": {},
   "source": [
    "Ahora, se observan los valores faltantes en las columnas del Dataframe"
   ]
  },
  {
   "cell_type": "code",
   "execution_count": 62,
   "metadata": {},
   "outputs": [
    {
     "data": {
      "text/plain": [
       "budget                      0\n",
       "id_movie                    0\n",
       "original_language          11\n",
       "overview                  941\n",
       "popularity                  0\n",
       "release_date                0\n",
       "revenue                     0\n",
       "runtime                   246\n",
       "status                     80\n",
       "tagline                 24959\n",
       "title                       0\n",
       "vote_average                0\n",
       "vote_count                  0\n",
       "id_franchise            40630\n",
       "collection_name         40630\n",
       "backdrop_path           41440\n",
       "id_genres                 662\n",
       "genres                    662\n",
       "production_companies     4772\n",
       "id_company               4772\n",
       "country_code             2263\n",
       "production_countries     2263\n",
       "language_code            1313\n",
       "language                 1313\n",
       "release_year                0\n",
       "return                      0\n",
       "dtype: int64"
      ]
     },
     "execution_count": 62,
     "metadata": {},
     "output_type": "execute_result"
    }
   ],
   "source": [
    "df_movies_full.isnull().sum()"
   ]
  },
  {
   "cell_type": "markdown",
   "metadata": {},
   "source": [
    "se aprecia que las columnas id_franchise, collection_name y backdrop_path poseen casi la totalidad de os datos faltantes, por lo que es posible concluir que no tiene sentido seguir considerando estas columnas que no aportarían valor al modelo y hasta podría generar sesgo. por ende, se eliminan estas columnas"
   ]
  },
  {
   "cell_type": "code",
   "execution_count": 63,
   "metadata": {},
   "outputs": [],
   "source": [
    "df_movies_full.drop(columns=['id_franchise', 'collection_name', 'backdrop_path'], axis=1, inplace=True)"
   ]
  },
  {
   "cell_type": "markdown",
   "metadata": {},
   "source": [
    "verificamos que se hayan eliminado"
   ]
  },
  {
   "cell_type": "code",
   "execution_count": 64,
   "metadata": {},
   "outputs": [
    {
     "data": {
      "text/plain": [
       "Index(['budget', 'id_movie', 'original_language', 'overview', 'popularity',\n",
       "       'release_date', 'revenue', 'runtime', 'status', 'tagline', 'title',\n",
       "       'vote_average', 'vote_count', 'id_genres', 'genres',\n",
       "       'production_companies', 'id_company', 'country_code',\n",
       "       'production_countries', 'language_code', 'language', 'release_year',\n",
       "       'return'],\n",
       "      dtype='object')"
      ]
     },
     "execution_count": 64,
     "metadata": {},
     "output_type": "execute_result"
    }
   ],
   "source": [
    "df_movies_full.columns"
   ]
  },
  {
   "cell_type": "markdown",
   "metadata": {},
   "source": [
    "## 4.2 Visualizamos los datos"
   ]
  },
  {
   "cell_type": "markdown",
   "metadata": {},
   "source": [
    "#### Gráfico 1: Distribución de generos"
   ]
  },
  {
   "cell_type": "code",
   "execution_count": 65,
   "metadata": {},
   "outputs": [
    {
     "data": {
      "image/png": "[encoded data removed]",
      "text/plain": [
       "<Figure size 1200x600 with 1 Axes>"
      ]
     },
     "metadata": {},
     "output_type": "display_data"
    }
   ],
   "source": [
    "plt.figure(figsize=(12, 6))\n",
    "df_movies_full['genres'].value_counts().head(10).plot(kind='bar')\n",
    "plt.title('Distribución de generos (Top 10)')\n",
    "plt.xlabel('películas')\n",
    "plt.ylabel('Recuento')\n",
    "plt.xticks(rotation=45)\n",
    "plt.show()"
   ]
  },
  {
   "cell_type": "markdown",
   "metadata": {},
   "source": [
    "#### Grafico 2: Distribución de compañías de producción"
   ]
  },
  {
   "cell_type": "code",
   "execution_count": 66,
   "metadata": {},
   "outputs": [
    {
     "data": {
      "image/png": "[encoded data removed]",
      "text/plain": [
       "<Figure size 1200x600 with 1 Axes>"
      ]
     },
     "metadata": {},
     "output_type": "display_data"
    }
   ],
   "source": [
    "plt.figure(figsize=(12, 6))\n",
    "df_movies_full['production_companies'].value_counts().head(10).plot(kind='barh')\n",
    "plt.title('Distribución de compañías de producción (Top 10)')\n",
    "plt.xlabel('Recuento')\n",
    "plt.ylabel('Compañía')\n",
    "plt.show()"
   ]
  },
  {
   "cell_type": "markdown",
   "metadata": {},
   "source": [
    "#### Grafico 3: Distribución de año de Lanzamiento"
   ]
  },
  {
   "cell_type": "code",
   "execution_count": 67,
   "metadata": {},
   "outputs": [
    {
     "data": {
      "image/png": "[encoded data removed]",
      "text/plain": [
       "<Figure size 1200x600 with 1 Axes>"
      ]
     },
     "metadata": {},
     "output_type": "display_data"
    }
   ],
   "source": [
    "plt.figure(figsize=(12, 6))\n",
    "df_movies_full['release_date'].dt.year.head(1000).value_counts().sort_index().plot(kind='bar')\n",
    "plt.title('Distribución de Fechas de Lanzamiento')\n",
    "plt.xlabel('Año de Lanzamiento')\n",
    "plt.ylabel('Recuento')\n",
    "plt.show()"
   ]
  },
  {
   "cell_type": "markdown",
   "metadata": {},
   "source": [
    "Se observa una gran aumento entro los años 1990 y 1996 para luego desminuir drasticamente llegando a principios del siglo XXI\n",
    "\n",
    "#### Grafico 4: Distribución de votos por película (Top 10)"
   ]
  },
  {
   "cell_type": "code",
   "execution_count": 68,
   "metadata": {},
   "outputs": [
    {
     "data": {
      "image/png": "[encoded data removed]",
      "text/plain": [
       "<Figure size 1200x600 with 1 Axes>"
      ]
     },
     "metadata": {},
     "output_type": "display_data"
    }
   ],
   "source": [
    "top_10_votes = df_movies_full.nlargest(10, 'vote_count')\n",
    "\n",
    "\n",
    "top_10_votes = top_10_votes.sort_values('vote_count', ascending=True)\n",
    "# Crear el gráfico de barras\n",
    "plt.figure(figsize=(12, 6))\n",
    "plt.bar(top_10_votes['title'], top_10_votes['vote_count'])\n",
    "plt.title('Distribución de votos por película (Top 10)')\n",
    "plt.xlabel('Películas')\n",
    "plt.ylabel('Recuento')\n",
    "plt.xticks(rotation=45)\n",
    "plt.show()"
   ]
  },
  {
   "cell_type": "markdown",
   "metadata": {},
   "source": [
    "Del grafico 4 se puede ver que la película incepción ha sido la más votada a lo largo de los años"
   ]
  },
  {
   "cell_type": "markdown",
   "metadata": {},
   "source": [
    "#### Grafico 5: Distribución de ingreso por película (Top 20)"
   ]
  },
  {
   "cell_type": "code",
   "execution_count": 69,
   "metadata": {},
   "outputs": [
    {
     "data": {
      "image/png": "[encoded data removed]",
      "text/plain": [
       "<Figure size 1200x600 with 1 Axes>"
      ]
     },
     "metadata": {},
     "output_type": "display_data"
    }
   ],
   "source": [
    "top_20_revenue = df_movies_full.nlargest(20, 'revenue')\n",
    "\n",
    "top_20_revenue = top_20_revenue.sort_values('revenue', ascending=True)\n",
    "# Crear el gráfico de barras\n",
    "plt.figure(figsize=(12, 6))\n",
    "plt.barh(top_20_revenue['title'], top_20_revenue['revenue'])\n",
    "plt.title('Distribución de ingresos por película (Top 10)')\n",
    "plt.xlabel('Ingreso')\n",
    "plt.ylabel('Películas')\n",
    "plt.xticks(rotation=45)\n",
    "plt.show()"
   ]
  },
  {
   "cell_type": "markdown",
   "metadata": {},
   "source": [
    "#### Grafico 6: Distribución de presupuesto por película (Top 20)"
   ]
  },
  {
   "cell_type": "code",
   "execution_count": 70,
   "metadata": {},
   "outputs": [
    {
     "data": {
      "image/png": "[encoded data removed]",
      "text/plain": [
       "<Figure size 1200x600 with 1 Axes>"
      ]
     },
     "metadata": {},
     "output_type": "display_data"
    }
   ],
   "source": [
    "top_10_budget = df_movies_full.nlargest(10, 'budget')\n",
    "\n",
    "top_10_budget = top_10_budget.sort_values('budget', ascending=True)\n",
    "\n",
    "# Crear el gráfico de barras\n",
    "plt.figure(figsize=(12, 6))\n",
    "plt.barh(top_10_budget['title'], top_10_budget['budget'])\n",
    "plt.title('Distribución de ingresos por película (Top 10)')\n",
    "plt.xlabel('Presupuesto')\n",
    "plt.ylabel('Películas')\n",
    "plt.xticks(rotation=45)\n",
    "plt.show()"
   ]
  },
  {
   "cell_type": "markdown",
   "metadata": {},
   "source": [
    "De este grafico se ve que la película que necesito un mayor presupuesto es la de piratas del caribe navegando en aguas misteriosas"
   ]
  },
  {
   "cell_type": "markdown",
   "metadata": {},
   "source": [
    "#### Grafico 7: Distribución de Retorno por película (Top 10)"
   ]
  },
  {
   "cell_type": "code",
   "execution_count": 71,
   "metadata": {},
   "outputs": [
    {
     "data": {
      "image/png": "[encoded data removed]",
      "text/plain": [
       "<Figure size 1000x800 with 1 Axes>"
      ]
     },
     "metadata": {},
     "output_type": "display_data"
    }
   ],
   "source": [
    "df_top10 = df_movies_full.sort_values(by='return', ascending=False).head(10)\n",
    "\n",
    "plt.figure(figsize=(10, 8))\n",
    "sns.barplot(x='return', y='title', hue='return', data=df_top10, palette='viridis', legend=False)\n",
    "plt.xlabel('Return')\n",
    "plt.ylabel('Title')\n",
    "plt.title('Top 10 Movies vs Return')\n",
    "plt.show()"
   ]
  },
  {
   "cell_type": "markdown",
   "metadata": {},
   "source": [
    "## 5. Modelamiento para sistema de recomendación"
   ]
  },
  {
   "cell_type": "markdown",
   "metadata": {},
   "source": [
    "##### para esto se utilizará la librería que contiene la herramienta 'similitud de coseno'"
   ]
  },
  {
   "cell_type": "code",
   "execution_count": 72,
   "metadata": {},
   "outputs": [
    {
     "data": {
      "text/plain": [
       "Index(['budget', 'id_movie', 'original_language', 'overview', 'popularity',\n",
       "       'release_date', 'revenue', 'runtime', 'status', 'tagline', 'title',\n",
       "       'vote_average', 'vote_count', 'id_genres', 'genres',\n",
       "       'production_companies', 'id_company', 'country_code',\n",
       "       'production_countries', 'language_code', 'language', 'release_year',\n",
       "       'return'],\n",
       "      dtype='object')"
      ]
     },
     "execution_count": 72,
     "metadata": {},
     "output_type": "execute_result"
    }
   ],
   "source": [
    "df_movies_full.columns   "
   ]
  },
  {
   "cell_type": "markdown",
   "metadata": {},
   "source": [
    "##### con esto es posible medir que tanto se parece una variable con otra con valores de similitud entre -1 y 1, con 1 tendría una similitud muy alta, cero muy baja y -1 muy baja.\n",
    "\n",
    "##### para esto necesitaremos un nuevo dataframe utilizando 'title', 'id_movie', 'genres'"
   ]
  },
  {
   "cell_type": "code",
   "execution_count": 73,
   "metadata": {},
   "outputs": [],
   "source": [
    "df_modelo_1 = df_movies_full[['id_movie', 'title', 'genres']].copy()"
   ]
  },
  {
   "cell_type": "markdown",
   "metadata": {},
   "source": [
    "##### se verifican los cuantos datos nulos presenta cada columna con el fin de verificar si es posible disminuir datos sin afectar la calidad"
   ]
  },
  {
   "cell_type": "code",
   "execution_count": 74,
   "metadata": {},
   "outputs": [
    {
     "name": "stdout",
     "output_type": "stream",
     "text": [
      "(45346, 3)\n",
      "id_movie      0\n",
      "title         0\n",
      "genres      662\n",
      "dtype: int64\n",
      "(44684, 3)\n",
      "0\n"
     ]
    }
   ],
   "source": [
    "print(df_modelo_1.shape)\n",
    "print(df_modelo_1.isnull().sum())\n",
    "df_modelo = df_modelo_1.dropna()\n",
    "print(df_modelo.shape)\n",
    "print(df_modelo.duplicated().sum())"
   ]
  },
  {
   "cell_type": "markdown",
   "metadata": {},
   "source": [
    "se convierten el tipo de dato de 'id_movie' a int"
   ]
  },
  {
   "cell_type": "code",
   "execution_count": 75,
   "metadata": {},
   "outputs": [],
   "source": [
    "df_modelo.loc[:, 'id_movie'] = df_modelo['id_movie'].astype(int)\n"
   ]
  },
  {
   "cell_type": "code",
   "execution_count": 133,
   "metadata": {},
   "outputs": [],
   "source": [
    "df_modelo_final  = pd.get_dummies(df_modelo, columns=['genres'], prefix='genre')"
   ]
  },
  {
   "cell_type": "code",
   "execution_count": 134,
   "metadata": {},
   "outputs": [
    {
     "data": {
      "text/html": [
       "<div>\n",
       "<style scoped>\n",
       "    .dataframe tbody tr th:only-of-type {\n",
       "        vertical-align: middle;\n",
       "    }\n",
       "\n",
       "    .dataframe tbody tr th {\n",
       "        vertical-align: top;\n",
       "    }\n",
       "\n",
       "    .dataframe thead th {\n",
       "        text-align: right;\n",
       "    }\n",
       "</style>\n",
       "<table border=\"1\" class=\"dataframe\">\n",
       "  <thead>\n",
       "    <tr style=\"text-align: right;\">\n",
       "      <th></th>\n",
       "      <th>id_movie</th>\n",
       "      <th>title</th>\n",
       "      <th>genre_Action</th>\n",
       "      <th>genre_Adventure</th>\n",
       "      <th>genre_Animation</th>\n",
       "      <th>genre_Carousel Productions</th>\n",
       "      <th>genre_Comedy</th>\n",
       "      <th>genre_Crime</th>\n",
       "      <th>genre_Documentary</th>\n",
       "      <th>genre_Drama</th>\n",
       "      <th>...</th>\n",
       "      <th>genre_Music</th>\n",
       "      <th>genre_Mystery</th>\n",
       "      <th>genre_Pulser Productions</th>\n",
       "      <th>genre_Romance</th>\n",
       "      <th>genre_Science Fiction</th>\n",
       "      <th>genre_TV Movie</th>\n",
       "      <th>genre_Thriller</th>\n",
       "      <th>genre_Vision View Entertainment</th>\n",
       "      <th>genre_War</th>\n",
       "      <th>genre_Western</th>\n",
       "    </tr>\n",
       "  </thead>\n",
       "  <tbody>\n",
       "    <tr>\n",
       "      <th>0</th>\n",
       "      <td>862.00</td>\n",
       "      <td>Toy Story</td>\n",
       "      <td>False</td>\n",
       "      <td>False</td>\n",
       "      <td>True</td>\n",
       "      <td>False</td>\n",
       "      <td>False</td>\n",
       "      <td>False</td>\n",
       "      <td>False</td>\n",
       "      <td>False</td>\n",
       "      <td>...</td>\n",
       "      <td>False</td>\n",
       "      <td>False</td>\n",
       "      <td>False</td>\n",
       "      <td>False</td>\n",
       "      <td>False</td>\n",
       "      <td>False</td>\n",
       "      <td>False</td>\n",
       "      <td>False</td>\n",
       "      <td>False</td>\n",
       "      <td>False</td>\n",
       "    </tr>\n",
       "    <tr>\n",
       "      <th>3</th>\n",
       "      <td>8844.00</td>\n",
       "      <td>Jumanji</td>\n",
       "      <td>False</td>\n",
       "      <td>True</td>\n",
       "      <td>False</td>\n",
       "      <td>False</td>\n",
       "      <td>False</td>\n",
       "      <td>False</td>\n",
       "      <td>False</td>\n",
       "      <td>False</td>\n",
       "      <td>...</td>\n",
       "      <td>False</td>\n",
       "      <td>False</td>\n",
       "      <td>False</td>\n",
       "      <td>False</td>\n",
       "      <td>False</td>\n",
       "      <td>False</td>\n",
       "      <td>False</td>\n",
       "      <td>False</td>\n",
       "      <td>False</td>\n",
       "      <td>False</td>\n",
       "    </tr>\n",
       "    <tr>\n",
       "      <th>21</th>\n",
       "      <td>15602.00</td>\n",
       "      <td>Grumpier Old Men</td>\n",
       "      <td>False</td>\n",
       "      <td>False</td>\n",
       "      <td>False</td>\n",
       "      <td>False</td>\n",
       "      <td>False</td>\n",
       "      <td>False</td>\n",
       "      <td>False</td>\n",
       "      <td>False</td>\n",
       "      <td>...</td>\n",
       "      <td>False</td>\n",
       "      <td>False</td>\n",
       "      <td>False</td>\n",
       "      <td>True</td>\n",
       "      <td>False</td>\n",
       "      <td>False</td>\n",
       "      <td>False</td>\n",
       "      <td>False</td>\n",
       "      <td>False</td>\n",
       "      <td>False</td>\n",
       "    </tr>\n",
       "  </tbody>\n",
       "</table>\n",
       "<p>3 rows × 26 columns</p>\n",
       "</div>"
      ],
      "text/plain": [
       "    id_movie             title  genre_Action  genre_Adventure  \\\n",
       "0     862.00         Toy Story         False            False   \n",
       "3    8844.00           Jumanji         False             True   \n",
       "21  15602.00  Grumpier Old Men         False            False   \n",
       "\n",
       "    genre_Animation  genre_Carousel Productions  genre_Comedy  genre_Crime  \\\n",
       "0              True                       False         False        False   \n",
       "3             False                       False         False        False   \n",
       "21            False                       False         False        False   \n",
       "\n",
       "    genre_Documentary  genre_Drama  ...  genre_Music  genre_Mystery  \\\n",
       "0               False        False  ...        False          False   \n",
       "3               False        False  ...        False          False   \n",
       "21              False        False  ...        False          False   \n",
       "\n",
       "    genre_Pulser Productions  genre_Romance  genre_Science Fiction  \\\n",
       "0                      False          False                  False   \n",
       "3                      False          False                  False   \n",
       "21                     False           True                  False   \n",
       "\n",
       "    genre_TV Movie  genre_Thriller  genre_Vision View Entertainment  \\\n",
       "0            False           False                            False   \n",
       "3            False           False                            False   \n",
       "21           False           False                            False   \n",
       "\n",
       "    genre_War  genre_Western  \n",
       "0       False          False  \n",
       "3       False          False  \n",
       "21      False          False  \n",
       "\n",
       "[3 rows x 26 columns]"
      ]
     },
     "execution_count": 134,
     "metadata": {},
     "output_type": "execute_result"
    }
   ],
   "source": [
    "df_modelo_final.head(3)"
   ]
  },
  {
   "cell_type": "markdown",
   "metadata": {},
   "source": [
    "se reordena el dataframe"
   ]
  },
  {
   "cell_type": "code",
   "execution_count": 135,
   "metadata": {},
   "outputs": [],
   "source": [
    "df_modelo_final = df_modelo_final.groupby(['id_movie', 'title']).sum().reset_index()\n"
   ]
  },
  {
   "cell_type": "code",
   "execution_count": 136,
   "metadata": {},
   "outputs": [
    {
     "data": {
      "text/plain": [
       "(44684, 26)"
      ]
     },
     "execution_count": 136,
     "metadata": {},
     "output_type": "execute_result"
    }
   ],
   "source": [
    "df_modelo_final.shape"
   ]
  },
  {
   "cell_type": "markdown",
   "metadata": {},
   "source": [
    "Se realiza un conteo de las filas ya que el dataframe es demasiado grande como para que se pueda correr el codigo por lo tanto se disminuyen de la siguiente manera:"
   ]
  },
  {
   "cell_type": "code",
   "execution_count": 137,
   "metadata": {},
   "outputs": [],
   "source": [
    "num_filas = len(df_modelo_final)\n",
    "df_modelo_final = df_modelo_final.iloc[:num_filas//5]"
   ]
  },
  {
   "cell_type": "code",
   "execution_count": 138,
   "metadata": {},
   "outputs": [
    {
     "data": {
      "text/plain": [
       "(8936, 26)"
      ]
     },
     "execution_count": 138,
     "metadata": {},
     "output_type": "execute_result"
    }
   ],
   "source": [
    "df_modelo_final.shape"
   ]
  },
  {
   "cell_type": "code",
   "execution_count": 139,
   "metadata": {},
   "outputs": [
    {
     "data": {
      "text/html": [
       "<div>\n",
       "<style scoped>\n",
       "    .dataframe tbody tr th:only-of-type {\n",
       "        vertical-align: middle;\n",
       "    }\n",
       "\n",
       "    .dataframe tbody tr th {\n",
       "        vertical-align: top;\n",
       "    }\n",
       "\n",
       "    .dataframe thead th {\n",
       "        text-align: right;\n",
       "    }\n",
       "</style>\n",
       "<table border=\"1\" class=\"dataframe\">\n",
       "  <thead>\n",
       "    <tr style=\"text-align: right;\">\n",
       "      <th></th>\n",
       "      <th>id_movie</th>\n",
       "      <th>title</th>\n",
       "      <th>genre_Action</th>\n",
       "      <th>genre_Adventure</th>\n",
       "      <th>genre_Animation</th>\n",
       "      <th>genre_Carousel Productions</th>\n",
       "      <th>genre_Comedy</th>\n",
       "      <th>genre_Crime</th>\n",
       "      <th>genre_Documentary</th>\n",
       "      <th>genre_Drama</th>\n",
       "      <th>...</th>\n",
       "      <th>genre_Music</th>\n",
       "      <th>genre_Mystery</th>\n",
       "      <th>genre_Pulser Productions</th>\n",
       "      <th>genre_Romance</th>\n",
       "      <th>genre_Science Fiction</th>\n",
       "      <th>genre_TV Movie</th>\n",
       "      <th>genre_Thriller</th>\n",
       "      <th>genre_Vision View Entertainment</th>\n",
       "      <th>genre_War</th>\n",
       "      <th>genre_Western</th>\n",
       "    </tr>\n",
       "  </thead>\n",
       "  <tbody>\n",
       "    <tr>\n",
       "      <th>0</th>\n",
       "      <td>2.00</td>\n",
       "      <td>Ariel</td>\n",
       "      <td>0</td>\n",
       "      <td>0</td>\n",
       "      <td>0</td>\n",
       "      <td>0</td>\n",
       "      <td>1</td>\n",
       "      <td>0</td>\n",
       "      <td>0</td>\n",
       "      <td>0</td>\n",
       "      <td>...</td>\n",
       "      <td>0</td>\n",
       "      <td>0</td>\n",
       "      <td>0</td>\n",
       "      <td>0</td>\n",
       "      <td>0</td>\n",
       "      <td>0</td>\n",
       "      <td>0</td>\n",
       "      <td>0</td>\n",
       "      <td>0</td>\n",
       "      <td>0</td>\n",
       "    </tr>\n",
       "    <tr>\n",
       "      <th>1</th>\n",
       "      <td>3.00</td>\n",
       "      <td>Shadows in Paradise</td>\n",
       "      <td>0</td>\n",
       "      <td>0</td>\n",
       "      <td>0</td>\n",
       "      <td>0</td>\n",
       "      <td>0</td>\n",
       "      <td>0</td>\n",
       "      <td>0</td>\n",
       "      <td>0</td>\n",
       "      <td>...</td>\n",
       "      <td>0</td>\n",
       "      <td>0</td>\n",
       "      <td>0</td>\n",
       "      <td>0</td>\n",
       "      <td>1</td>\n",
       "      <td>0</td>\n",
       "      <td>0</td>\n",
       "      <td>0</td>\n",
       "      <td>0</td>\n",
       "      <td>0</td>\n",
       "    </tr>\n",
       "    <tr>\n",
       "      <th>2</th>\n",
       "      <td>5.00</td>\n",
       "      <td>Four Rooms</td>\n",
       "      <td>0</td>\n",
       "      <td>0</td>\n",
       "      <td>0</td>\n",
       "      <td>0</td>\n",
       "      <td>0</td>\n",
       "      <td>1</td>\n",
       "      <td>0</td>\n",
       "      <td>0</td>\n",
       "      <td>...</td>\n",
       "      <td>0</td>\n",
       "      <td>0</td>\n",
       "      <td>0</td>\n",
       "      <td>0</td>\n",
       "      <td>0</td>\n",
       "      <td>0</td>\n",
       "      <td>0</td>\n",
       "      <td>0</td>\n",
       "      <td>0</td>\n",
       "      <td>0</td>\n",
       "    </tr>\n",
       "    <tr>\n",
       "      <th>3</th>\n",
       "      <td>6.00</td>\n",
       "      <td>Judgment Night</td>\n",
       "      <td>0</td>\n",
       "      <td>0</td>\n",
       "      <td>0</td>\n",
       "      <td>0</td>\n",
       "      <td>0</td>\n",
       "      <td>0</td>\n",
       "      <td>0</td>\n",
       "      <td>0</td>\n",
       "      <td>...</td>\n",
       "      <td>0</td>\n",
       "      <td>0</td>\n",
       "      <td>0</td>\n",
       "      <td>0</td>\n",
       "      <td>0</td>\n",
       "      <td>0</td>\n",
       "      <td>1</td>\n",
       "      <td>0</td>\n",
       "      <td>0</td>\n",
       "      <td>0</td>\n",
       "    </tr>\n",
       "    <tr>\n",
       "      <th>4</th>\n",
       "      <td>11.00</td>\n",
       "      <td>Star Wars</td>\n",
       "      <td>0</td>\n",
       "      <td>0</td>\n",
       "      <td>0</td>\n",
       "      <td>0</td>\n",
       "      <td>0</td>\n",
       "      <td>0</td>\n",
       "      <td>0</td>\n",
       "      <td>0</td>\n",
       "      <td>...</td>\n",
       "      <td>0</td>\n",
       "      <td>0</td>\n",
       "      <td>0</td>\n",
       "      <td>0</td>\n",
       "      <td>1</td>\n",
       "      <td>0</td>\n",
       "      <td>0</td>\n",
       "      <td>0</td>\n",
       "      <td>0</td>\n",
       "      <td>0</td>\n",
       "    </tr>\n",
       "    <tr>\n",
       "      <th>...</th>\n",
       "      <td>...</td>\n",
       "      <td>...</td>\n",
       "      <td>...</td>\n",
       "      <td>...</td>\n",
       "      <td>...</td>\n",
       "      <td>...</td>\n",
       "      <td>...</td>\n",
       "      <td>...</td>\n",
       "      <td>...</td>\n",
       "      <td>...</td>\n",
       "      <td>...</td>\n",
       "      <td>...</td>\n",
       "      <td>...</td>\n",
       "      <td>...</td>\n",
       "      <td>...</td>\n",
       "      <td>...</td>\n",
       "      <td>...</td>\n",
       "      <td>...</td>\n",
       "      <td>...</td>\n",
       "      <td>...</td>\n",
       "      <td>...</td>\n",
       "    </tr>\n",
       "    <tr>\n",
       "      <th>8931</th>\n",
       "      <td>19757.00</td>\n",
       "      <td>Icarus XB 1</td>\n",
       "      <td>0</td>\n",
       "      <td>1</td>\n",
       "      <td>0</td>\n",
       "      <td>0</td>\n",
       "      <td>0</td>\n",
       "      <td>0</td>\n",
       "      <td>0</td>\n",
       "      <td>0</td>\n",
       "      <td>...</td>\n",
       "      <td>0</td>\n",
       "      <td>0</td>\n",
       "      <td>0</td>\n",
       "      <td>0</td>\n",
       "      <td>0</td>\n",
       "      <td>0</td>\n",
       "      <td>0</td>\n",
       "      <td>0</td>\n",
       "      <td>0</td>\n",
       "      <td>0</td>\n",
       "    </tr>\n",
       "    <tr>\n",
       "      <th>8932</th>\n",
       "      <td>19759.00</td>\n",
       "      <td>The Fabulous World of Jules Verne</td>\n",
       "      <td>0</td>\n",
       "      <td>0</td>\n",
       "      <td>0</td>\n",
       "      <td>0</td>\n",
       "      <td>0</td>\n",
       "      <td>0</td>\n",
       "      <td>0</td>\n",
       "      <td>1</td>\n",
       "      <td>...</td>\n",
       "      <td>0</td>\n",
       "      <td>0</td>\n",
       "      <td>0</td>\n",
       "      <td>0</td>\n",
       "      <td>0</td>\n",
       "      <td>0</td>\n",
       "      <td>0</td>\n",
       "      <td>0</td>\n",
       "      <td>0</td>\n",
       "      <td>0</td>\n",
       "    </tr>\n",
       "    <tr>\n",
       "      <th>8933</th>\n",
       "      <td>19760.00</td>\n",
       "      <td>Two If by Sea</td>\n",
       "      <td>0</td>\n",
       "      <td>0</td>\n",
       "      <td>0</td>\n",
       "      <td>0</td>\n",
       "      <td>0</td>\n",
       "      <td>0</td>\n",
       "      <td>0</td>\n",
       "      <td>0</td>\n",
       "      <td>...</td>\n",
       "      <td>0</td>\n",
       "      <td>0</td>\n",
       "      <td>0</td>\n",
       "      <td>1</td>\n",
       "      <td>0</td>\n",
       "      <td>0</td>\n",
       "      <td>0</td>\n",
       "      <td>0</td>\n",
       "      <td>0</td>\n",
       "      <td>0</td>\n",
       "    </tr>\n",
       "    <tr>\n",
       "      <th>8934</th>\n",
       "      <td>19761.00</td>\n",
       "      <td>Saturn 3</td>\n",
       "      <td>0</td>\n",
       "      <td>0</td>\n",
       "      <td>0</td>\n",
       "      <td>0</td>\n",
       "      <td>0</td>\n",
       "      <td>0</td>\n",
       "      <td>0</td>\n",
       "      <td>1</td>\n",
       "      <td>...</td>\n",
       "      <td>0</td>\n",
       "      <td>0</td>\n",
       "      <td>0</td>\n",
       "      <td>0</td>\n",
       "      <td>0</td>\n",
       "      <td>0</td>\n",
       "      <td>0</td>\n",
       "      <td>0</td>\n",
       "      <td>0</td>\n",
       "      <td>0</td>\n",
       "    </tr>\n",
       "    <tr>\n",
       "      <th>8935</th>\n",
       "      <td>19762.00</td>\n",
       "      <td>Son of Flubber</td>\n",
       "      <td>0</td>\n",
       "      <td>0</td>\n",
       "      <td>0</td>\n",
       "      <td>0</td>\n",
       "      <td>0</td>\n",
       "      <td>0</td>\n",
       "      <td>0</td>\n",
       "      <td>1</td>\n",
       "      <td>...</td>\n",
       "      <td>0</td>\n",
       "      <td>0</td>\n",
       "      <td>0</td>\n",
       "      <td>0</td>\n",
       "      <td>0</td>\n",
       "      <td>0</td>\n",
       "      <td>0</td>\n",
       "      <td>0</td>\n",
       "      <td>0</td>\n",
       "      <td>0</td>\n",
       "    </tr>\n",
       "  </tbody>\n",
       "</table>\n",
       "<p>8936 rows × 26 columns</p>\n",
       "</div>"
      ],
      "text/plain": [
       "      id_movie                              title  genre_Action  \\\n",
       "0         2.00                              Ariel             0   \n",
       "1         3.00                Shadows in Paradise             0   \n",
       "2         5.00                         Four Rooms             0   \n",
       "3         6.00                     Judgment Night             0   \n",
       "4        11.00                          Star Wars             0   \n",
       "...        ...                                ...           ...   \n",
       "8931  19757.00                        Icarus XB 1             0   \n",
       "8932  19759.00  The Fabulous World of Jules Verne             0   \n",
       "8933  19760.00                      Two If by Sea             0   \n",
       "8934  19761.00                           Saturn 3             0   \n",
       "8935  19762.00                     Son of Flubber             0   \n",
       "\n",
       "      genre_Adventure  genre_Animation  genre_Carousel Productions  \\\n",
       "0                   0                0                           0   \n",
       "1                   0                0                           0   \n",
       "2                   0                0                           0   \n",
       "3                   0                0                           0   \n",
       "4                   0                0                           0   \n",
       "...               ...              ...                         ...   \n",
       "8931                1                0                           0   \n",
       "8932                0                0                           0   \n",
       "8933                0                0                           0   \n",
       "8934                0                0                           0   \n",
       "8935                0                0                           0   \n",
       "\n",
       "      genre_Comedy  genre_Crime  genre_Documentary  genre_Drama  ...  \\\n",
       "0                1            0                  0            0  ...   \n",
       "1                0            0                  0            0  ...   \n",
       "2                0            1                  0            0  ...   \n",
       "3                0            0                  0            0  ...   \n",
       "4                0            0                  0            0  ...   \n",
       "...            ...          ...                ...          ...  ...   \n",
       "8931             0            0                  0            0  ...   \n",
       "8932             0            0                  0            1  ...   \n",
       "8933             0            0                  0            0  ...   \n",
       "8934             0            0                  0            1  ...   \n",
       "8935             0            0                  0            1  ...   \n",
       "\n",
       "      genre_Music  genre_Mystery  genre_Pulser Productions  genre_Romance  \\\n",
       "0               0              0                         0              0   \n",
       "1               0              0                         0              0   \n",
       "2               0              0                         0              0   \n",
       "3               0              0                         0              0   \n",
       "4               0              0                         0              0   \n",
       "...           ...            ...                       ...            ...   \n",
       "8931            0              0                         0              0   \n",
       "8932            0              0                         0              0   \n",
       "8933            0              0                         0              1   \n",
       "8934            0              0                         0              0   \n",
       "8935            0              0                         0              0   \n",
       "\n",
       "      genre_Science Fiction  genre_TV Movie  genre_Thriller  \\\n",
       "0                         0               0               0   \n",
       "1                         1               0               0   \n",
       "2                         0               0               0   \n",
       "3                         0               0               1   \n",
       "4                         1               0               0   \n",
       "...                     ...             ...             ...   \n",
       "8931                      0               0               0   \n",
       "8932                      0               0               0   \n",
       "8933                      0               0               0   \n",
       "8934                      0               0               0   \n",
       "8935                      0               0               0   \n",
       "\n",
       "      genre_Vision View Entertainment  genre_War  genre_Western  \n",
       "0                                   0          0              0  \n",
       "1                                   0          0              0  \n",
       "2                                   0          0              0  \n",
       "3                                   0          0              0  \n",
       "4                                   0          0              0  \n",
       "...                               ...        ...            ...  \n",
       "8931                                0          0              0  \n",
       "8932                                0          0              0  \n",
       "8933                                0          0              0  \n",
       "8934                                0          0              0  \n",
       "8935                                0          0              0  \n",
       "\n",
       "[8936 rows x 26 columns]"
      ]
     },
     "execution_count": 139,
     "metadata": {},
     "output_type": "execute_result"
    }
   ],
   "source": [
    "df_modelo_final"
   ]
  },
  {
   "cell_type": "markdown",
   "metadata": {},
   "source": [
    "se procede a realizar la función para las recomendaciones"
   ]
  },
  {
   "cell_type": "code",
   "execution_count": 140,
   "metadata": {},
   "outputs": [],
   "source": [
    "def recomendacion(titulo):\n",
    "    \n",
    "    titulo = titulo.replace(\" \", \"\").lower()\n",
    "    tfidf_vectorizer = TfidfVectorizer(stop_words='english')\n",
    "    tfidf_matrix = tfidf_vectorizer.fit_transform(df_modelo_final['title'].values.astype('U'))\n",
    "    similitudes = cosine_similarity(tfidf_matrix)\n",
    "    # Filter the input movie by its title\n",
    "    selected_movie = df_modelo_final[df_modelo_final['title'].str.replace(\" \", \"\").str.lower() == titulo]\n",
    "    \n",
    "    if selected_movie.empty:\n",
    "        return [\"Movie with the specified title does not exist in the database.\"]\n",
    "\n",
    "        # Get similarity scores of the input movie with all movies\n",
    "    similarity_scores = similitudes[selected_movie.index[0]]\n",
    "    \n",
    "    # Get indices of top 5 most similar movies (excluding the input movie)\n",
    "    similar_movie_indices = similarity_scores.argsort()[::-1][1:6]\n",
    "    \n",
    "    # Get titles of recommended movies\n",
    "    recommended_movies = df_modelo_final.iloc[similar_movie_indices]['title'].unique().tolist()\n",
    "    \n",
    "    recommended_movies = [movie for movie in recommended_movies if movie.replace(\" \", \"\").lower() != titulo]\n",
    "\n",
    "        # Ensure we have exactly 5 recommendations\n",
    "    if len(recommended_movies) < 5:\n",
    "        additional_movies = df_modelo_final[~df_modelo_final['title'].str.replace(\" \", \"\").str.lower().isin([titulo] + recommended_movies)]\n",
    "        recommended_movies += additional_movies['title'].unique().tolist()[:5 - len(recommended_movies)]\n",
    "    return recommended_movies\n"
   ]
  },
  {
   "cell_type": "code",
   "execution_count": 141,
   "metadata": {},
   "outputs": [
    {
     "data": {
      "text/plain": [
       "['Toy Story 2', 'L.A. Story', 'The Story of Us', 'The Story of O', 'Ariel']"
      ]
     },
     "execution_count": 141,
     "metadata": {},
     "output_type": "execute_result"
    }
   ],
   "source": [
    "recomendacion('Toy Story')"
   ]
  },
  {
   "cell_type": "markdown",
   "metadata": {},
   "source": [
    "#### Se procede a guardar todos los modelos en archivos parquet"
   ]
  },
  {
   "cell_type": "code",
   "execution_count": 142,
   "metadata": {},
   "outputs": [],
   "source": [
    "#convertimos dataframe a archivo parquet\n",
    "df_f1.to_parquet('Datasets\\df_f1.parquet')\n",
    "df_f2.to_parquet('Datasets\\df_f2.parquet')\n",
    "df_f3.to_parquet('Datasets\\df_f3.parquet')\n",
    "df_f4.to_parquet('Datasets\\df_f4.parquet')\n",
    "df_f5.to_parquet('Datasets\\df_f5.parquet')\n",
    "df_f6.to_parquet('Datasets\\df_f6.parquet')\n",
    "df_modelo_final.to_parquet('Datasets\\df_modelo_final.parquet')"
   ]
  }
 ],
 "metadata": {
  "kernelspec": {
   "display_name": "Python 3",
   "language": "python",
   "name": "python3"
  },
  "language_info": {
   "codemirror_mode": {
    "name": "ipython",
    "version": 3
   },
   "file_extension": ".py",
   "mimetype": "text/x-python",
   "name": "python",
   "nbconvert_exporter": "python",
   "pygments_lexer": "ipython3",
   "version": "3.11.9"
  }
 },
 "nbformat": 4,
 "nbformat_minor": 2
}
